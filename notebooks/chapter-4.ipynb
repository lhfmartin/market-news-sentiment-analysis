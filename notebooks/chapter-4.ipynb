{
 "cells": [
  {
   "cell_type": "markdown",
   "id": "9d78e831-ee23-4346-a818-bead46358bf4",
   "metadata": {},
   "source": [
    "# Chapter 4: Unigrams and n-grams"
   ]
  },
  {
   "cell_type": "code",
   "execution_count": 1,
   "id": "a843ba36-a0cb-49dc-b18b-f6ead167f466",
   "metadata": {},
   "outputs": [
    {
     "name": "stdout",
     "output_type": "stream",
     "text": [
      "(7131, 11)\n"
     ]
    }
   ],
   "source": [
    "import configparser\n",
    "from getpass import getuser\n",
    "config = configparser.ConfigParser()\n",
    "config.read(f\"../config/{getuser()}.ini\")\n",
    "if len(config.sections()) == 0:\n",
    "    config.read(\"config/default.ini\")\n",
    "DATA_PATH = config[\"Data\"][\"path\"]\n",
    "\n",
    "import os\n",
    "import pandas as pd\n",
    "df = pd.read_pickle(os.path.join(DATA_PATH, \"df.pkl\"))\n",
    "print(df.shape)"
   ]
  },
  {
   "cell_type": "markdown",
   "id": "38360d19-5220-4250-bbd2-62f2e3fa3391",
   "metadata": {},
   "source": [
    "## Data Cleaning"
   ]
  },
  {
   "cell_type": "code",
   "execution_count": 2,
   "id": "bfc55e5e-8a07-4ebb-aed4-2a03e526e712",
   "metadata": {},
   "outputs": [
    {
     "data": {
      "text/html": [
       "<div>\n",
       "<style scoped>\n",
       "    .dataframe tbody tr th:only-of-type {\n",
       "        vertical-align: middle;\n",
       "    }\n",
       "\n",
       "    .dataframe tbody tr th {\n",
       "        vertical-align: top;\n",
       "    }\n",
       "\n",
       "    .dataframe thead th {\n",
       "        text-align: right;\n",
       "    }\n",
       "</style>\n",
       "<table border=\"1\" class=\"dataframe\">\n",
       "  <thead>\n",
       "    <tr style=\"text-align: right;\">\n",
       "      <th></th>\n",
       "      <th>Title</th>\n",
       "      <th>URL</th>\n",
       "      <th>Time_Published</th>\n",
       "      <th>Body_Text</th>\n",
       "      <th>Company</th>\n",
       "      <th>Symbol</th>\n",
       "      <th>Positive</th>\n",
       "      <th>Negative</th>\n",
       "      <th>Polarity</th>\n",
       "      <th>News_Id</th>\n",
       "      <th>Sentiment</th>\n",
       "    </tr>\n",
       "  </thead>\n",
       "  <tbody>\n",
       "    <tr>\n",
       "      <th>0</th>\n",
       "      <td>trump move military hospital precautionary mea...</td>\n",
       "      <td>http://www.aastocks.com/en/stocks/news/aafn-co...</td>\n",
       "      <td>2020-10-03 08:13:00</td>\n",
       "      <td>US President Donald Trump moved to a military ...</td>\n",
       "      <td></td>\n",
       "      <td></td>\n",
       "      <td>44</td>\n",
       "      <td>38</td>\n",
       "      <td>0.073171</td>\n",
       "      <td>NOW.1046693</td>\n",
       "      <td>0</td>\n",
       "    </tr>\n",
       "    <tr>\n",
       "      <th>1</th>\n",
       "      <td>hkadr project hsi open up 352 pt 23,812 next mon</td>\n",
       "      <td>http://www.aastocks.com/en/stocks/news/aafn-co...</td>\n",
       "      <td>2020-10-03 08:30:00</td>\n",
       "      <td>ADR Code│Relative price (HKD)│Premium of HK st...</td>\n",
       "      <td>ADR Code│Relative price</td>\n",
       "      <td>HKD</td>\n",
       "      <td>8</td>\n",
       "      <td>4</td>\n",
       "      <td>0.333333</td>\n",
       "      <td>NOW.1046694</td>\n",
       "      <td>1</td>\n",
       "    </tr>\n",
       "    <tr>\n",
       "      <th>2</th>\n",
       "      <td>uk, french mkts rise hope more relief measure</td>\n",
       "      <td>http://www.aastocks.com/en/stocks/news/aafn-co...</td>\n",
       "      <td>2020-10-03 08:19:00</td>\n",
       "      <td>UK and French bourses clawed back as Washingto...</td>\n",
       "      <td></td>\n",
       "      <td></td>\n",
       "      <td>2</td>\n",
       "      <td>0</td>\n",
       "      <td>1.000000</td>\n",
       "      <td>NOW.1046695</td>\n",
       "      <td>1</td>\n",
       "    </tr>\n",
       "    <tr>\n",
       "      <th>3</th>\n",
       "      <td>djia narrow loss 134 pt after trump contract c...</td>\n",
       "      <td>http://www.aastocks.com/en/stocks/news/aafn-co...</td>\n",
       "      <td>2020-10-03 08:26:00</td>\n",
       "      <td>DJIA futures once collapsed over 500 pts after...</td>\n",
       "      <td></td>\n",
       "      <td></td>\n",
       "      <td>3</td>\n",
       "      <td>1</td>\n",
       "      <td>0.500000</td>\n",
       "      <td>NOW.1046696</td>\n",
       "      <td>1</td>\n",
       "    </tr>\n",
       "    <tr>\n",
       "      <th>4</th>\n",
       "      <td>vix index up 3.5%</td>\n",
       "      <td>http://www.aastocks.com/en/stocks/news/aafn-co...</td>\n",
       "      <td>2020-10-03 08:27:00</td>\n",
       "      <td>VIX Index rose 0.93 pts, or 3.5%, to 27.63.</td>\n",
       "      <td></td>\n",
       "      <td></td>\n",
       "      <td>3</td>\n",
       "      <td>1</td>\n",
       "      <td>0.500000</td>\n",
       "      <td>NOW.1046697</td>\n",
       "      <td>1</td>\n",
       "    </tr>\n",
       "  </tbody>\n",
       "</table>\n",
       "</div>"
      ],
      "text/plain": [
       "                                               Title  \\\n",
       "0  trump move military hospital precautionary mea...   \n",
       "1   hkadr project hsi open up 352 pt 23,812 next mon   \n",
       "2      uk, french mkts rise hope more relief measure   \n",
       "3  djia narrow loss 134 pt after trump contract c...   \n",
       "4                                  vix index up 3.5%   \n",
       "\n",
       "                                                 URL      Time_Published  \\\n",
       "0  http://www.aastocks.com/en/stocks/news/aafn-co... 2020-10-03 08:13:00   \n",
       "1  http://www.aastocks.com/en/stocks/news/aafn-co... 2020-10-03 08:30:00   \n",
       "2  http://www.aastocks.com/en/stocks/news/aafn-co... 2020-10-03 08:19:00   \n",
       "3  http://www.aastocks.com/en/stocks/news/aafn-co... 2020-10-03 08:26:00   \n",
       "4  http://www.aastocks.com/en/stocks/news/aafn-co... 2020-10-03 08:27:00   \n",
       "\n",
       "                                           Body_Text                  Company  \\\n",
       "0  US President Donald Trump moved to a military ...                            \n",
       "1  ADR Code│Relative price (HKD)│Premium of HK st...  ADR Code│Relative price   \n",
       "2  UK and French bourses clawed back as Washingto...                            \n",
       "3  DJIA futures once collapsed over 500 pts after...                            \n",
       "4        VIX Index rose 0.93 pts, or 3.5%, to 27.63.                            \n",
       "\n",
       "  Symbol  Positive  Negative  Polarity      News_Id  Sentiment  \n",
       "0               44        38  0.073171  NOW.1046693          0  \n",
       "1    HKD         8         4  0.333333  NOW.1046694          1  \n",
       "2                2         0  1.000000  NOW.1046695          1  \n",
       "3                3         1  0.500000  NOW.1046696          1  \n",
       "4                3         1  0.500000  NOW.1046697          1  "
      ]
     },
     "metadata": {},
     "output_type": "display_data"
    }
   ],
   "source": [
    "import nltk\n",
    "nltk.download('stopwords', quiet=True)\n",
    "nltk.download('wordnet', quiet=True)\n",
    "from nltk.corpus import stopwords\n",
    "from nltk.stem import WordNetLemmatizer\n",
    "\n",
    "sw = stopwords.words(\"english\")\n",
    "wnl = WordNetLemmatizer()\n",
    "df[\"Title\"] = df[\"Title\"].apply(lambda x: \" \".join([wnl.lemmatize(w.lower()) for w in x.split() if w not in sw]))\n",
    "df.dropna(subset=[\"Title\"], inplace=True)\n",
    "display(df.head())\n",
    "\n",
    "X = df[\"Title\"]\n",
    "y = df[\"Sentiment\"]"
   ]
  },
  {
   "cell_type": "markdown",
   "id": "71365087-45c2-4cdd-8d37-51d421517b26",
   "metadata": {},
   "source": [
    "## Fitting and evaluating models for unigram to trigram"
   ]
  },
  {
   "cell_type": "markdown",
   "id": "9a93f675-1352-476a-97a2-a87e8797be27",
   "metadata": {},
   "source": [
    "### SVM"
   ]
  },
  {
   "cell_type": "code",
   "execution_count": 3,
   "id": "2c111675-c60a-4836-993f-9cbf636d8622",
   "metadata": {},
   "outputs": [
    {
     "name": "stdout",
     "output_type": "stream",
     "text": [
      "1-gram:\n",
      "\tMax accuracy: 0.7479967948717948 \n",
      "\tC=0.805\n",
      "2-gram:\n",
      "\tMax accuracy: 0.7504006410256411 \n",
      "\tC=0.6050000000000001\n",
      "3-gram:\n",
      "\tMax accuracy: 0.7411858974358975 \n",
      "\tC=25\n"
     ]
    }
   ],
   "source": [
    "from sklearn.svm import SVC\n",
    "import numpy as np\n",
    "from sklearn.model_selection import train_test_split\n",
    "from sklearn.feature_extraction.text import CountVectorizer\n",
    "from sklearn.metrics import accuracy_score\n",
    "\n",
    "for n in [1, 2, 3]:\n",
    "    max_accuracy = max_accuracy_c = 0\n",
    "    for c in np.arange(0.005, 1, 0.2).tolist() + np.arange(1, 50, 4).tolist():\n",
    "        X_train, X_test, y_train, y_test = train_test_split(X, y, test_size=0.35)\n",
    "        count_vectorizer = CountVectorizer(ngram_range=(n, n))\n",
    "        count_vectorizer.fit(X_train)\n",
    "        X_train = count_vectorizer.transform(X_train)\n",
    "        X_test = count_vectorizer.transform(X_test)\n",
    "        \n",
    "        model = SVC(C=c)\n",
    "        model.fit(X_train, y_train)\n",
    "        y_pred = model.predict(X_test)\n",
    "        \n",
    "        accuracy = accuracy_score(y_test, y_pred)\n",
    "        if accuracy > max_accuracy:\n",
    "            max_accuracy = accuracy\n",
    "            max_accuracy_c = c\n",
    "    print(f\"{n}-gram:\")\n",
    "    print(\"\\tMax accuracy:\", max_accuracy, f\"\\n\\tC={max_accuracy_c}\")"
   ]
  },
  {
   "cell_type": "markdown",
   "id": "92a31768-18cf-4d68-b6c4-1a05822a103a",
   "metadata": {},
   "source": [
    "Still far from satisfactory (although much better than the lexicon based methods)"
   ]
  }
 ],
 "metadata": {
  "kernelspec": {
   "display_name": "Python 3",
   "language": "python",
   "name": "python3"
  },
  "language_info": {
   "codemirror_mode": {
    "name": "ipython",
    "version": 3
   },
   "file_extension": ".py",
   "mimetype": "text/x-python",
   "name": "python",
   "nbconvert_exporter": "python",
   "pygments_lexer": "ipython3",
   "version": "3.9.5"
  }
 },
 "nbformat": 4,
 "nbformat_minor": 5
}
