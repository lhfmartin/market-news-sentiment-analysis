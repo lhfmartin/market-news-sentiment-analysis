{
 "cells": [
  {
   "cell_type": "markdown",
   "id": "9d78e831-ee23-4346-a818-bead46358bf4",
   "metadata": {},
   "source": [
    "# Chapter 4: Unigrams and n-grams, and undersampling the training data"
   ]
  },
  {
   "cell_type": "code",
   "execution_count": 1,
   "id": "a843ba36-a0cb-49dc-b18b-f6ead167f466",
   "metadata": {},
   "outputs": [
    {
     "name": "stdout",
     "output_type": "stream",
     "text": [
      "(6602, 11)\n"
     ]
    }
   ],
   "source": [
    "import configparser\n",
    "from getpass import getuser\n",
    "config = configparser.ConfigParser()\n",
    "config.read(f\"../config/{getuser()}.ini\")\n",
    "if len(config.sections()) == 0:\n",
    "    config.read(\"../config/default.ini\")\n",
    "DATA_PATH = config[\"Data\"][\"path\"]\n",
    "\n",
    "import os\n",
    "import pandas as pd\n",
    "df = pd.read_pickle(os.path.join(DATA_PATH, \"df.pkl\"))\n",
    "print(df.shape)"
   ]
  },
  {
   "cell_type": "markdown",
   "id": "38360d19-5220-4250-bbd2-62f2e3fa3391",
   "metadata": {},
   "source": [
    "## Data Cleaning"
   ]
  },
  {
   "cell_type": "code",
   "execution_count": 2,
   "id": "bfc55e5e-8a07-4ebb-aed4-2a03e526e712",
   "metadata": {},
   "outputs": [
    {
     "data": {
      "text/html": [
       "<div>\n",
       "<style scoped>\n",
       "    .dataframe tbody tr th:only-of-type {\n",
       "        vertical-align: middle;\n",
       "    }\n",
       "\n",
       "    .dataframe tbody tr th {\n",
       "        vertical-align: top;\n",
       "    }\n",
       "\n",
       "    .dataframe thead th {\n",
       "        text-align: right;\n",
       "    }\n",
       "</style>\n",
       "<table border=\"1\" class=\"dataframe\">\n",
       "  <thead>\n",
       "    <tr style=\"text-align: right;\">\n",
       "      <th></th>\n",
       "      <th>Title</th>\n",
       "      <th>URL</th>\n",
       "      <th>Time_Published</th>\n",
       "      <th>Body_Text</th>\n",
       "      <th>Company</th>\n",
       "      <th>Symbol</th>\n",
       "      <th>Positive</th>\n",
       "      <th>Negative</th>\n",
       "      <th>Polarity</th>\n",
       "      <th>News_Id</th>\n",
       "      <th>Sentiment</th>\n",
       "    </tr>\n",
       "  </thead>\n",
       "  <tbody>\n",
       "    <tr>\n",
       "      <th>2207</th>\n",
       "      <td>jiayuan ser (01153.hk) priced $3.86, one-lot s...</td>\n",
       "      <td>http://www.aastocks.com/en/stocks/news/aafn-co...</td>\n",
       "      <td>2020-12-08 08:33:00</td>\n",
       "      <td>JIAYUAN SER, to be listed tomorrow, was priced...</td>\n",
       "      <td>JIAYUAN SER</td>\n",
       "      <td>01153.HK</td>\n",
       "      <td>8</td>\n",
       "      <td>11</td>\n",
       "      <td>-0.157895</td>\n",
       "      <td>NOW.1061565</td>\n",
       "      <td>-1</td>\n",
       "    </tr>\n",
       "    <tr>\n",
       "      <th>6999</th>\n",
       "      <td>chevron mull taking over noble midstream</td>\n",
       "      <td>http://www.aastocks.com/en/stocks/news/aafn-co...</td>\n",
       "      <td>2021-02-06 10:53:00</td>\n",
       "      <td>Chevron announced proposed privatisation of pi...</td>\n",
       "      <td></td>\n",
       "      <td></td>\n",
       "      <td>3</td>\n",
       "      <td>0</td>\n",
       "      <td>1.000000</td>\n",
       "      <td>NOW.1074790</td>\n",
       "      <td>1</td>\n",
       "    </tr>\n",
       "    <tr>\n",
       "      <th>5834</th>\n",
       "      <td>ck asset (01113.hk)'s 'seaside sonata' sell 69...</td>\n",
       "      <td>http://www.aastocks.com/en/stocks/news/aafn-co...</td>\n",
       "      <td>2021-01-25 16:23:00</td>\n",
       "      <td>CK ASSET announced that Seaside Sonata has to ...</td>\n",
       "      <td>CK ASSET</td>\n",
       "      <td>01113.HK</td>\n",
       "      <td>26</td>\n",
       "      <td>16</td>\n",
       "      <td>0.238095</td>\n",
       "      <td>NOW.1071583</td>\n",
       "      <td>1</td>\n",
       "    </tr>\n",
       "    <tr>\n",
       "      <th>4908</th>\n",
       "      <td>ubs hike innovent bio (01801.hk) tp $112.8; ra...</td>\n",
       "      <td>http://www.aastocks.com/en/stocks/news/aafn-co...</td>\n",
       "      <td>2021-01-14 10:14:00</td>\n",
       "      <td>China's leading biotech firm INNOVENT BIO boas...</td>\n",
       "      <td>China's leading biotech firm INNOVENT BIO</td>\n",
       "      <td>01801.HK</td>\n",
       "      <td>29</td>\n",
       "      <td>13</td>\n",
       "      <td>0.380952</td>\n",
       "      <td>NOW.1069127</td>\n",
       "      <td>1</td>\n",
       "    </tr>\n",
       "    <tr>\n",
       "      <th>1938</th>\n",
       "      <td>12 shk mall expected post 8% mom growth turnov...</td>\n",
       "      <td>http://www.aastocks.com/en/stocks/news/aafn-co...</td>\n",
       "      <td>2020-12-03 18:13:00</td>\n",
       "      <td>The 12 shopping malls of SHK PPT were projecte...</td>\n",
       "      <td>The 12 shopping malls of SHK PPT</td>\n",
       "      <td>00016.HK</td>\n",
       "      <td>7</td>\n",
       "      <td>9</td>\n",
       "      <td>-0.125000</td>\n",
       "      <td>NOW.1060893</td>\n",
       "      <td>-1</td>\n",
       "    </tr>\n",
       "  </tbody>\n",
       "</table>\n",
       "</div>"
      ],
      "text/plain": [
       "                                                  Title  \\\n",
       "2207  jiayuan ser (01153.hk) priced $3.86, one-lot s...   \n",
       "6999           chevron mull taking over noble midstream   \n",
       "5834  ck asset (01113.hk)'s 'seaside sonata' sell 69...   \n",
       "4908  ubs hike innovent bio (01801.hk) tp $112.8; ra...   \n",
       "1938  12 shk mall expected post 8% mom growth turnov...   \n",
       "\n",
       "                                                    URL      Time_Published  \\\n",
       "2207  http://www.aastocks.com/en/stocks/news/aafn-co... 2020-12-08 08:33:00   \n",
       "6999  http://www.aastocks.com/en/stocks/news/aafn-co... 2021-02-06 10:53:00   \n",
       "5834  http://www.aastocks.com/en/stocks/news/aafn-co... 2021-01-25 16:23:00   \n",
       "4908  http://www.aastocks.com/en/stocks/news/aafn-co... 2021-01-14 10:14:00   \n",
       "1938  http://www.aastocks.com/en/stocks/news/aafn-co... 2020-12-03 18:13:00   \n",
       "\n",
       "                                              Body_Text  \\\n",
       "2207  JIAYUAN SER, to be listed tomorrow, was priced...   \n",
       "6999  Chevron announced proposed privatisation of pi...   \n",
       "5834  CK ASSET announced that Seaside Sonata has to ...   \n",
       "4908  China's leading biotech firm INNOVENT BIO boas...   \n",
       "1938  The 12 shopping malls of SHK PPT were projecte...   \n",
       "\n",
       "                                        Company    Symbol  Positive  Negative  \\\n",
       "2207                                JIAYUAN SER  01153.HK         8        11   \n",
       "6999                                                              3         0   \n",
       "5834                                   CK ASSET  01113.HK        26        16   \n",
       "4908  China's leading biotech firm INNOVENT BIO  01801.HK        29        13   \n",
       "1938           The 12 shopping malls of SHK PPT  00016.HK         7         9   \n",
       "\n",
       "      Polarity      News_Id  Sentiment  \n",
       "2207 -0.157895  NOW.1061565         -1  \n",
       "6999  1.000000  NOW.1074790          1  \n",
       "5834  0.238095  NOW.1071583          1  \n",
       "4908  0.380952  NOW.1069127          1  \n",
       "1938 -0.125000  NOW.1060893         -1  "
      ]
     },
     "metadata": {},
     "output_type": "display_data"
    }
   ],
   "source": [
    "import nltk\n",
    "nltk.download('stopwords', quiet=True)\n",
    "nltk.download('wordnet', quiet=True)\n",
    "from nltk.corpus import stopwords\n",
    "from nltk.stem import WordNetLemmatizer\n",
    "\n",
    "sw = stopwords.words(\"english\")\n",
    "wnl = WordNetLemmatizer()\n",
    "df[\"Title\"] = df[\"Title\"].apply(lambda x: \" \".join([wnl.lemmatize(w.lower()) for w in x.split() if w not in sw]))\n",
    "df.dropna(subset=[\"Title\"], inplace=True)\n",
    "display(df.head())\n",
    "\n",
    "X = df[\"Title\"]\n",
    "y = df[\"Sentiment\"]"
   ]
  },
  {
   "cell_type": "markdown",
   "id": "71365087-45c2-4cdd-8d37-51d421517b26",
   "metadata": {},
   "source": [
    "## Fitting and evaluating models for unigram to trigram"
   ]
  },
  {
   "cell_type": "markdown",
   "id": "9a93f675-1352-476a-97a2-a87e8797be27",
   "metadata": {},
   "source": [
    "### SVM"
   ]
  },
  {
   "cell_type": "code",
   "execution_count": 3,
   "id": "2c111675-c60a-4836-993f-9cbf636d8622",
   "metadata": {},
   "outputs": [
    {
     "name": "stdout",
     "output_type": "stream",
     "text": [
      "1-gram:\n",
      "\tMax accuracy: 0.7472955430549546 \n",
      "\tC=1\n"
     ]
    },
    {
     "data": {
      "image/png": "[encoded data removed]",
      "text/plain": [
       "<Figure size 432x288 with 2 Axes>"
      ]
     },
     "metadata": {
      "needs_background": "light"
     },
     "output_type": "display_data"
    },
    {
     "name": "stdout",
     "output_type": "stream",
     "text": [
      "2-gram:\n",
      "\tMax accuracy: 0.7438338381652964 \n",
      "\tC=0.405\n"
     ]
    },
    {
     "data": {
      "image/png": "[encoded data removed]",
      "text/plain": [
       "<Figure size 432x288 with 2 Axes>"
      ]
     },
     "metadata": {
      "needs_background": "light"
     },
     "output_type": "display_data"
    },
    {
     "name": "stdout",
     "output_type": "stream",
     "text": [
      "3-gram:\n",
      "\tMax accuracy: 0.7425356988316746 \n",
      "\tC=5\n"
     ]
    },
    {
     "data": {
      "image/png": "[encoded data removed]",
      "text/plain": [
       "<Figure size 432x288 with 2 Axes>"
      ]
     },
     "metadata": {
      "needs_background": "light"
     },
     "output_type": "display_data"
    }
   ],
   "source": [
    "from sklearn.svm import SVC\n",
    "import numpy as np\n",
    "from sklearn.model_selection import train_test_split\n",
    "from sklearn.feature_extraction.text import CountVectorizer\n",
    "from sklearn.metrics import accuracy_score, confusion_matrix\n",
    "import matplotlib.pyplot as plt\n",
    "import seaborn as sns\n",
    "\n",
    "for n in [1, 2, 3]:\n",
    "    max_accuracy = max_accuracy_c = max_accuracy_confusion_matrix = 0\n",
    "    for c in np.arange(0.005, 1, 0.2).tolist() + np.arange(1, 50, 4).tolist():\n",
    "        X_train, X_test, y_train, y_test = train_test_split(X, y, test_size=0.35, random_state=50)\n",
    "        count_vectorizer = CountVectorizer(ngram_range=(n, n))\n",
    "        count_vectorizer.fit(X_train)\n",
    "        X_train = count_vectorizer.transform(X_train)\n",
    "        X_test = count_vectorizer.transform(X_test)\n",
    "        \n",
    "        model = SVC(C=c)\n",
    "        model.fit(X_train, y_train)\n",
    "        y_pred = model.predict(X_test)\n",
    "        \n",
    "        accuracy = accuracy_score(y_test, y_pred)\n",
    "        if accuracy > max_accuracy:\n",
    "            max_accuracy = accuracy\n",
    "            max_accuracy_c = c\n",
    "            max_accuracy_confusion_matrix = confusion_matrix(y_test, y_pred, labels=[-1, 0, 1])\n",
    "    print(f\"{n}-gram:\")\n",
    "    print(\"\\tMax accuracy:\", max_accuracy, f\"\\n\\tC={max_accuracy_c}\")\n",
    "    sns.heatmap(max_accuracy_confusion_matrix, annot=True, xticklabels=[-1, 0, 1], yticklabels=[-1, 0, 1])\n",
    "    plt.show()"
   ]
  },
  {
   "cell_type": "markdown",
   "id": "92a31768-18cf-4d68-b6c4-1a05822a103a",
   "metadata": {},
   "source": [
    "Still far from satisfactory (although much better than the lexicon based methods)\\\n",
    "The prediction is skewed towards the positive class, probably because the training data is imbalanced towards the positive class\\\n",
    "Let's train the model again after undersampling the training data\n",
    "\n",
    "Acknowledgements:\\\n",
    "Thanks [Judy](https://medium.com/@judytraj007) for the [tutorial](https://towardsdatascience.com/what-to-do-when-your-classification-dataset-is-imbalanced-6af031b12a36)"
   ]
  },
  {
   "cell_type": "code",
   "execution_count": 4,
   "id": "14a678db-8484-49cf-a0e2-89af4446eca9",
   "metadata": {},
   "outputs": [
    {
     "name": "stdout",
     "output_type": "stream",
     "text": [
      "1-gram:\n",
      "\tMax accuracy: 0.5417568152315015 \n",
      "\tC=5\n"
     ]
    },
    {
     "data": {
      "image/png": "[encoded data removed]",
      "text/plain": [
       "<Figure size 432x288 with 2 Axes>"
      ]
     },
     "metadata": {
      "needs_background": "light"
     },
     "output_type": "display_data"
    },
    {
     "name": "stdout",
     "output_type": "stream",
     "text": [
      "2-gram:\n",
      "\tMax accuracy: 0.40025962786672437 \n",
      "\tC=9\n"
     ]
    },
    {
     "data": {
      "image/png": "[encoded data removed]",
      "text/plain": [
       "<Figure size 432x288 with 2 Axes>"
      ]
     },
     "metadata": {
      "needs_background": "light"
     },
     "output_type": "display_data"
    },
    {
     "name": "stdout",
     "output_type": "stream",
     "text": [
      "3-gram:\n",
      "\tMax accuracy: 0.30203375162267415 \n",
      "\tC=9\n"
     ]
    },
    {
     "data": {
      "image/png": "[encoded data removed]",
      "text/plain": [
       "<Figure size 432x288 with 2 Axes>"
      ]
     },
     "metadata": {
      "needs_background": "light"
     },
     "output_type": "display_data"
    }
   ],
   "source": [
    "from sklearn.utils import resample\n",
    "\n",
    "for n in [1, 2, 3]:\n",
    "    max_accuracy = max_accuracy_c = max_accuracy_confusion_matrix = 0\n",
    "    for c in np.arange(0.005, 1, 0.2).tolist() + np.arange(1, 50, 4).tolist():\n",
    "        X_train, X_test, y_train, y_test = train_test_split(X, y, test_size=0.35, random_state=50)\n",
    "        \n",
    "        # Undersampling the training data\n",
    "        train = pd.concat([X_train, y_train], axis=1)\n",
    "        train_positive = train[train[\"Sentiment\"] == 1]\n",
    "        train_neutral = train[train[\"Sentiment\"] == 0]\n",
    "        train_negative = train[train[\"Sentiment\"] == -1]\n",
    "        train_positive_resampled = resample(train_positive, n_samples=len(train_negative), random_state=70)\n",
    "        train_resampled = pd.concat([train_positive_resampled, train_neutral, train_negative])\n",
    "        X_train = train_resampled[\"Title\"]\n",
    "        y_train = train_resampled[\"Sentiment\"]\n",
    "\n",
    "        count_vectorizer = CountVectorizer(ngram_range=(n, n))\n",
    "        count_vectorizer.fit(X_train)\n",
    "        X_train = count_vectorizer.transform(X_train)\n",
    "        X_test = count_vectorizer.transform(X_test)\n",
    "\n",
    "        model = SVC(C=c)\n",
    "        model.fit(X_train, y_train)\n",
    "        y_pred = model.predict(X_test)\n",
    "        \n",
    "        accuracy = accuracy_score(y_test, y_pred)\n",
    "        if accuracy > max_accuracy:\n",
    "            max_accuracy = accuracy\n",
    "            max_accuracy_c = c\n",
    "            max_accuracy_confusion_matrix = confusion_matrix(y_test, y_pred, labels=[-1, 0, 1])\n",
    "    print(f\"{n}-gram:\")\n",
    "    print(\"\\tMax accuracy:\", max_accuracy, f\"\\n\\tC={max_accuracy_c}\")\n",
    "    sns.heatmap(max_accuracy_confusion_matrix, annot=True, xticklabels=[-1, 0, 1], yticklabels=[-1, 0, 1])\n",
    "    plt.show()"
   ]
  },
  {
   "cell_type": "markdown",
   "id": "bee1c5e3-654d-41ef-a299-66503acda056",
   "metadata": {},
   "source": [
    "Undersampling worsens the situation in this case, maybe more training data is needed"
   ]
  }
 ],
 "metadata": {
  "kernelspec": {
   "display_name": "Python 3",
   "language": "python",
   "name": "python3"
  },
  "language_info": {
   "codemirror_mode": {
    "name": "ipython",
    "version": 3
   },
   "file_extension": ".py",
   "mimetype": "text/x-python",
   "name": "python",
   "nbconvert_exporter": "python",
   "pygments_lexer": "ipython3",
   "version": "3.9.5"
  }
 },
 "nbformat": 4,
 "nbformat_minor": 5
}
