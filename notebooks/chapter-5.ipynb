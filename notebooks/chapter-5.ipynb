{
 "cells": [
  {
   "cell_type": "markdown",
   "id": "ecd77546-cbb0-4ad1-b949-5da234e3738d",
   "metadata": {},
   "source": [
    "# Chapter 5: spaCy\n",
    "\n",
    "Install the `en_core_web_trf` model from spacy with `python -m spacy download en_core_web_trf`\n",
    "\n",
    "Acknowledgements:\\\n",
    "Thanks [Python Tutorials for Digital Humanities](https://www.youtube.com/channel/UC5vr5PwcXiKX_-6NTteAlXw) for the [tutorial](https://www.youtube.com/watch?v=7PD48PFL9VQ)"
   ]
  },
  {
   "cell_type": "code",
   "execution_count": 1,
   "id": "342dc90c-06ff-4798-a253-ba32055e3448",
   "metadata": {},
   "outputs": [
    {
     "name": "stdout",
     "output_type": "stream",
     "text": [
      "(5920, 11)\n"
     ]
    }
   ],
   "source": [
    "import configparser\n",
    "from getpass import getuser\n",
    "config = configparser.ConfigParser()\n",
    "config.read(f\"../config/{getuser()}.ini\")\n",
    "if len(config.sections()) == 0:\n",
    "    config.read(\"../config/default.ini\")\n",
    "DATA_PATH = config[\"Data\"][\"path\"]\n",
    "\n",
    "import os\n",
    "import pandas as pd\n",
    "df = pd.read_pickle(os.path.join(DATA_PATH, \"df.pkl\"))\n",
    "print(df.shape)"
   ]
  },
  {
   "cell_type": "code",
   "execution_count": 2,
   "id": "71336945-74f0-4776-916e-da687f0c5bdb",
   "metadata": {},
   "outputs": [
    {
     "name": "stdout",
     "output_type": "stream",
     "text": [
      " 0    2727\n",
      " 1    2727\n",
      "-1    2727\n",
      "Name: Sentiment, dtype: int64\n"
     ]
    }
   ],
   "source": [
    "TRAIN_SIZE = 0.55\n",
    "VALID_SIZE = 0.2\n",
    "TEST_SIZE = 0.25\n",
    "\n",
    "CHAPTER_5_FILES_PATH = \"./chapter-5-files\"\n",
    "from pathlib import Path\n",
    "Path(CHAPTER_5_FILES_PATH).mkdir(parents=True, exist_ok=True)\n",
    "\n",
    "from sklearn.model_selection import train_test_split\n",
    "from sklearn.utils import resample\n",
    "\n",
    "FEATURE_NAME = \"Body_Text\"\n",
    "\n",
    "X = df[FEATURE_NAME]\n",
    "y = df[\"Sentiment\"]\n",
    "X_train, X_test, y_train, y_test = train_test_split(X, y, test_size=TEST_SIZE, random_state=50)\n",
    "        \n",
    "# Undersampling the training data\n",
    "# train = pd.concat([X_train, y_train], axis=1)\n",
    "# train_positive = train[train[\"Sentiment\"] == 1]\n",
    "# train_neutral = train[train[\"Sentiment\"] == 0]\n",
    "# train_negative = train[train[\"Sentiment\"] == -1]\n",
    "# train_positive_resampled = resample(train_positive, n_samples=len(train_negative), random_state=70)\n",
    "# train_neutral_resampled = resample(train_neutral, n_samples=len(train_negative), random_state=70)\n",
    "# train_resampled = pd.concat([train_positive_resampled, train_neutral_resampled, train_negative])\n",
    "\n",
    "# Oversampling the training data\n",
    "train = pd.concat([X_train, y_train], axis=1)\n",
    "train_positive = train[train[\"Sentiment\"] == 1]\n",
    "train_neutral = train[train[\"Sentiment\"] == 0]\n",
    "train_negative = train[train[\"Sentiment\"] == -1]\n",
    "train_neutral_resampled = resample(train_neutral, n_samples=len(train_positive), random_state=70)\n",
    "train_negative_resampled = resample(train_negative, n_samples=len(train_positive), random_state=70)\n",
    "train_resampled = pd.concat([train_positive, train_neutral_resampled, train_negative_resampled])\n",
    "print(train_resampled.Sentiment.value_counts())\n",
    "\n",
    "X_train, X_valid, y_train, y_valid = train_test_split(train_resampled[FEATURE_NAME], train_resampled[\"Sentiment\"], test_size=VALID_SIZE/(TRAIN_SIZE+VALID_SIZE), random_state=50)\n",
    "\n",
    "df_train = pd.concat([X_train, y_train], axis=1)\n",
    "df_valid = pd.concat([X_valid, y_valid], axis=1)\n",
    "df_test = pd.concat([X_test, y_test], axis=1)\n",
    "\n",
    "df_train.to_pickle(os.path.join(CHAPTER_5_FILES_PATH, \"df_train.pkl\"))\n",
    "df_valid.to_pickle(os.path.join(CHAPTER_5_FILES_PATH, \"df_valid.pkl\"))\n",
    "df_test.to_pickle(os.path.join(CHAPTER_5_FILES_PATH, \"df_test.pkl\"))"
   ]
  },
  {
   "cell_type": "code",
   "execution_count": 3,
   "id": "c16ee4b4-5e86-49bc-b910-0c36f5b8f045",
   "metadata": {},
   "outputs": [
    {
     "name": "stdout",
     "output_type": "stream",
     "text": [
      "(5999, 2)\n",
      "(2182, 2)\n"
     ]
    }
   ],
   "source": [
    "df_train = pd.read_pickle(os.path.join(CHAPTER_5_FILES_PATH, \"df_train.pkl\"))\n",
    "print(df_train.shape)\n",
    "df_valid = pd.read_pickle(os.path.join(CHAPTER_5_FILES_PATH, \"df_valid.pkl\"))\n",
    "print(df_valid.shape)\n",
    "\n",
    "def map_df_to_list_of_tuples(df):\n",
    "    text_sentiment_tuples = []\n",
    "    for i, r in df.iterrows():\n",
    "        text_sentiment_tuples.append((r[FEATURE_NAME], r[\"Sentiment\"]))\n",
    "    return text_sentiment_tuples\n",
    "\n",
    "text_sentiment_tuples_train = map_df_to_list_of_tuples(df_train)\n",
    "text_sentiment_tuples_valid = map_df_to_list_of_tuples(df_valid)"
   ]
  },
  {
   "cell_type": "code",
   "execution_count": 4,
   "id": "39dc3116-109c-46d1-a351-83a0ca0d5f9a",
   "metadata": {},
   "outputs": [
    {
     "name": "stderr",
     "output_type": "stream",
     "text": [
      "100%|█████████████████████████████████████████████████████████████████████████████| 5999/5999 [00:58<00:00, 102.12it/s]\n",
      "100%|█████████████████████████████████████████████████████████████████████████████| 2182/2182 [00:21<00:00, 103.79it/s]\n"
     ]
    }
   ],
   "source": [
    "import spacy\n",
    "spacy.prefer_gpu()\n",
    "nlp = spacy.load(\"en_core_web_trf\")\n",
    "\n",
    "from tqdm import tqdm\n",
    "\n",
    "def convert_tuples_to_docbin(tuples):\n",
    "    docs = []\n",
    "    for doc, label in tqdm(nlp.pipe(tuples, as_tuples=True), total=len(tuples)):\n",
    "        if label == -1:\n",
    "            doc.cats[\"Negative\"] = 1\n",
    "            doc.cats[\"Neutral\"] = 0\n",
    "            doc.cats[\"Positive\"] = 0\n",
    "        elif label == 0:\n",
    "            doc.cats[\"Negative\"] = 0\n",
    "            doc.cats[\"Neutral\"] = 1\n",
    "            doc.cats[\"Positive\"] = 0\n",
    "        elif label == 1:\n",
    "            doc.cats[\"Negative\"] = 0\n",
    "            doc.cats[\"Neutral\"] = 0\n",
    "            doc.cats[\"Positive\"] = 1\n",
    "        docs.append(doc)\n",
    "    return spacy.tokens.DocBin(docs=docs)\n",
    "\n",
    "docbin_train = convert_tuples_to_docbin(text_sentiment_tuples_train)\n",
    "docbin_train.to_disk(os.path.join(CHAPTER_5_FILES_PATH, \"train.spacy\"))\n",
    "docbin_valid = convert_tuples_to_docbin(text_sentiment_tuples_valid)\n",
    "docbin_valid.to_disk(os.path.join(CHAPTER_5_FILES_PATH, \"valid.spacy\"))"
   ]
  },
  {
   "cell_type": "markdown",
   "id": "37d045db-4a82-44be-82f4-9621cfa4bf26",
   "metadata": {},
   "source": [
    "`cd notebooks/chapter-5-files`\n",
    "\n",
    "`python -m spacy init fill-config base_config.cfg config.cfg`\n",
    "\n",
    "`python -m spacy train config.cfg --output ./output --gpu-id 0`"
   ]
  },
  {
   "cell_type": "code",
   "execution_count": 1,
   "id": "e38ffe5f-e7e1-43a5-bc5f-2c293d5a2113",
   "metadata": {},
   "outputs": [],
   "source": [
    "CHAPTER_5_FILES_PATH = \"./chapter-5-files\"\n",
    "import spacy\n",
    "spacy.prefer_gpu()\n",
    "nlp = spacy.load(CHAPTER_5_FILES_PATH + \"/output/model-best\")"
   ]
  },
  {
   "cell_type": "code",
   "execution_count": 2,
   "id": "f1eebc8f-7640-44c6-a64c-e332e31e8ff9",
   "metadata": {},
   "outputs": [],
   "source": [
    "import os\n",
    "import pandas as pd\n",
    "df_test = pd.read_pickle(os.path.join(CHAPTER_5_FILES_PATH, \"df_test.pkl\"))"
   ]
  },
  {
   "cell_type": "code",
   "execution_count": 3,
   "id": "9ddb31fe-9d73-4e4a-98aa-642415d7a8e1",
   "metadata": {},
   "outputs": [],
   "source": [
    "FEATURE_NAME = \"Body_Text\"\n",
    "\n",
    "def get_predicted_category(r):\n",
    "    predictions = nlp(r[FEATURE_NAME]).cats\n",
    "    prediction = list(predictions.keys())[list(predictions.values()).index(max(predictions.values()))]\n",
    "    return 1 if prediction == \"Positive\" else 0 if prediction == \"Neutral\" else -1\n",
    "\n",
    "df_test[\"Predicted\"] = df_test.apply(lambda r: get_predicted_category(r), axis=1)"
   ]
  },
  {
   "cell_type": "code",
   "execution_count": 4,
   "id": "f154005f-0991-4c28-8497-905f42a7af47",
   "metadata": {},
   "outputs": [
    {
     "data": {
      "text/plain": [
       "0.6513513513513514"
      ]
     },
     "execution_count": 4,
     "metadata": {},
     "output_type": "execute_result"
    }
   ],
   "source": [
    "from sklearn.metrics import accuracy_score\n",
    "accuracy_score(df_test[\"Sentiment\"].to_list(), df_test[\"Predicted\"].to_list())"
   ]
  },
  {
   "cell_type": "code",
   "execution_count": 5,
   "id": "0496fcfd-fac6-4e61-9b4a-aa0405508e3a",
   "metadata": {},
   "outputs": [
    {
     "data": {
      "text/html": [
       "<div>\n",
       "<style scoped>\n",
       "    .dataframe tbody tr th:only-of-type {\n",
       "        vertical-align: middle;\n",
       "    }\n",
       "\n",
       "    .dataframe tbody tr th {\n",
       "        vertical-align: top;\n",
       "    }\n",
       "\n",
       "    .dataframe thead th {\n",
       "        text-align: right;\n",
       "    }\n",
       "</style>\n",
       "<table border=\"1\" class=\"dataframe\">\n",
       "  <thead>\n",
       "    <tr style=\"text-align: right;\">\n",
       "      <th></th>\n",
       "      <th>Body_Text</th>\n",
       "      <th>Sentiment</th>\n",
       "      <th>Predicted</th>\n",
       "    </tr>\n",
       "  </thead>\n",
       "  <tbody>\n",
       "    <tr>\n",
       "      <th>5248</th>\n",
       "      <td>Overnight HIBOR last posted at 0.03813%, accor...</td>\n",
       "      <td>0</td>\n",
       "      <td>1</td>\n",
       "    </tr>\n",
       "    <tr>\n",
       "      <th>4901</th>\n",
       "      <td>XL2CSOPHSTECH closed at HK$9.085,up 4.9%.</td>\n",
       "      <td>-1</td>\n",
       "      <td>1</td>\n",
       "    </tr>\n",
       "    <tr>\n",
       "      <th>6673</th>\n",
       "      <td>ASCENTAGE-B announced that the Company plans f...</td>\n",
       "      <td>0</td>\n",
       "      <td>1</td>\n",
       "    </tr>\n",
       "    <tr>\n",
       "      <th>4483</th>\n",
       "      <td>Under the executive order issued by US Preside...</td>\n",
       "      <td>1</td>\n",
       "      <td>0</td>\n",
       "    </tr>\n",
       "    <tr>\n",
       "      <th>5592</th>\n",
       "      <td>At midday close, HSI dropped 447 pts or 1.5% t...</td>\n",
       "      <td>-1</td>\n",
       "      <td>0</td>\n",
       "    </tr>\n",
       "  </tbody>\n",
       "</table>\n",
       "</div>"
      ],
      "text/plain": [
       "                                              Body_Text  Sentiment  Predicted\n",
       "5248  Overnight HIBOR last posted at 0.03813%, accor...          0          1\n",
       "4901          XL2CSOPHSTECH closed at HK$9.085,up 4.9%.         -1          1\n",
       "6673  ASCENTAGE-B announced that the Company plans f...          0          1\n",
       "4483  Under the executive order issued by US Preside...          1          0\n",
       "5592  At midday close, HSI dropped 447 pts or 1.5% t...         -1          0"
      ]
     },
     "execution_count": 5,
     "metadata": {},
     "output_type": "execute_result"
    }
   ],
   "source": [
    "df_test[df_test[\"Sentiment\"] != df_test[\"Predicted\"]].head()"
   ]
  },
  {
   "cell_type": "markdown",
   "id": "0f7a25b6-08fb-4b59-8b25-2a404690b115",
   "metadata": {},
   "source": [
    "Still not much better than the baseline, maybe can try different model architectures after scraping more data"
   ]
  }
 ],
 "metadata": {
  "kernelspec": {
   "display_name": "Python 3",
   "language": "python",
   "name": "python3"
  },
  "language_info": {
   "codemirror_mode": {
    "name": "ipython",
    "version": 3
   },
   "file_extension": ".py",
   "mimetype": "text/x-python",
   "name": "python",
   "nbconvert_exporter": "python",
   "pygments_lexer": "ipython3",
   "version": "3.9.5"
  }
 },
 "nbformat": 4,
 "nbformat_minor": 5
}
