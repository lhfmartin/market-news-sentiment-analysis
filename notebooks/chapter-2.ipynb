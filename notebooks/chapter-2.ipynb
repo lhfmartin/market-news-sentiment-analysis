{
 "cells": [
  {
   "cell_type": "markdown",
   "id": "ffd9df5a-7443-4cf4-9d3d-86bbfccc6fcb",
   "metadata": {},
   "source": [
    "# Chapter 2: Loading and visualizing data"
   ]
  },
  {
   "cell_type": "code",
   "execution_count": 1,
   "id": "a8dd660b-4428-4bc2-82c2-d24af27929ac",
   "metadata": {},
   "outputs": [],
   "source": [
    "import configparser\n",
    "from getpass import getuser\n",
    "config = configparser.ConfigParser()\n",
    "config.read(f\"../config/{getuser()}.ini\")\n",
    "if len(config.sections()) == 0:\n",
    "    config.read(\"../config/default.ini\")\n",
    "DATA_PATH = config[\"Data\"][\"path\"]"
   ]
  },
  {
   "cell_type": "markdown",
   "id": "04ba1964-49a5-4201-836c-d1648a1aca60",
   "metadata": {},
   "source": [
    "## Construct a DataFrame from the .json files"
   ]
  },
  {
   "cell_type": "code",
   "execution_count": 2,
   "id": "d0d37cf6-428a-487c-abaf-31eeeeb06f99",
   "metadata": {},
   "outputs": [
    {
     "name": "stdout",
     "output_type": "stream",
     "text": [
      "(7256, 11)\n"
     ]
    }
   ],
   "source": [
    "import os\n",
    "import json\n",
    "import pandas as pd\n",
    "\n",
    "THLD_NEUTRAL = 0.2\n",
    "\n",
    "data = []\n",
    "\n",
    "for file in os.listdir(DATA_PATH):\n",
    "    if file.endswith(\".json\"):\n",
    "        with open(os.path.join(DATA_PATH, file), \"r\", encoding=\"utf-8\") as f:\n",
    "            data.append(json.load(f))\n",
    "\n",
    "df = pd.DataFrame(data)\n",
    "df[\"Time_Published\"] = pd.to_datetime(df[\"Time_Published\"])\n",
    "\n",
    "df[\"Sentiment\"] = df.apply(lambda x: 1 if x[\"Polarity\"] > THLD_NEUTRAL else 0 if abs(x[\"Polarity\"]) <= THLD_NEUTRAL else -1, axis=1)\n",
    "df = df[(df[\"Positive\"] + df[\"Negative\"] == 0) | (df[\"Positive\"] + df[\"Negative\"] > 4)] # Only keep entries with no votes (neutral) or more than 4 votes\n",
    "\n",
    "from sklearn.utils import shuffle\n",
    "df = shuffle(df, random_state=10)\n",
    "\n",
    "print(df.shape)"
   ]
  },
  {
   "cell_type": "markdown",
   "id": "edc04808-c2b3-4585-b608-7c702ead75ac",
   "metadata": {},
   "source": [
    "## Data Cleaning"
   ]
  },
  {
   "cell_type": "code",
   "execution_count": 3,
   "id": "f9a811d7-ca06-4e87-b2e9-082df216faa3",
   "metadata": {},
   "outputs": [
    {
     "name": "stdout",
     "output_type": "stream",
     "text": [
      "(5920, 11)\n"
     ]
    }
   ],
   "source": [
    "import re\n",
    "\n",
    "FEATURE_NAME = \"Body_Text\"\n",
    "\n",
    "df[FEATURE_NAME] = df.apply(lambda r: re.sub(\"<.*?>\", \" \", r[FEATURE_NAME]), axis=1)\n",
    "df[FEATURE_NAME] = df.apply(lambda r: re.sub(\"\\\\u00a0\", \" \", r[FEATURE_NAME]), axis=1)\n",
    "df[FEATURE_NAME] = df.apply(lambda r: re.sub(\"(?i)COVID-19\", \"coronavirus\", r[FEATURE_NAME]), axis=1)\n",
    "df[FEATURE_NAME] = df.apply(lambda r: re.sub(\"(?i)COVID19\", \"coronavirus\", r[FEATURE_NAME]), axis=1)\n",
    "df[FEATURE_NAME] = df.apply(lambda r: re.sub(\"(?i)COVID\", \"coronavirus\", r[FEATURE_NAME]), axis=1)\n",
    "\n",
    "df = df.drop_duplicates(subset=\"Body_Text\")\n",
    "df = df[df[\"Body_Text\"] != \"\"]\n",
    "print(df.shape)"
   ]
  },
  {
   "cell_type": "markdown",
   "id": "a4547d78-a309-42c6-aeff-0f2f78aca745",
   "metadata": {},
   "source": [
    "First few entries in the DataFrame"
   ]
  },
  {
   "cell_type": "code",
   "execution_count": 4,
   "id": "bf70709c-1a99-4d0f-8d77-b939a931aa95",
   "metadata": {},
   "outputs": [
    {
     "data": {
      "text/html": [
       "<div>\n",
       "<style scoped>\n",
       "    .dataframe tbody tr th:only-of-type {\n",
       "        vertical-align: middle;\n",
       "    }\n",
       "\n",
       "    .dataframe tbody tr th {\n",
       "        vertical-align: top;\n",
       "    }\n",
       "\n",
       "    .dataframe thead th {\n",
       "        text-align: right;\n",
       "    }\n",
       "</style>\n",
       "<table border=\"1\" class=\"dataframe\">\n",
       "  <thead>\n",
       "    <tr style=\"text-align: right;\">\n",
       "      <th></th>\n",
       "      <th>Title</th>\n",
       "      <th>URL</th>\n",
       "      <th>Time_Published</th>\n",
       "      <th>Body_Text</th>\n",
       "      <th>Company</th>\n",
       "      <th>Symbol</th>\n",
       "      <th>Positive</th>\n",
       "      <th>Negative</th>\n",
       "      <th>Polarity</th>\n",
       "      <th>News_Id</th>\n",
       "      <th>Sentiment</th>\n",
       "    </tr>\n",
       "  </thead>\n",
       "  <tbody>\n",
       "    <tr>\n",
       "      <th>4883</th>\n",
       "      <td>Charles Li: HK Stocks Resilient; Recent Turnov...</td>\n",
       "      <td>http://www.aastocks.com/en/stocks/news/aafn-co...</td>\n",
       "      <td>2021-01-14 15:10:00</td>\n",
       "      <td>HKEX ex-CEO Charles Li found it hard to predic...</td>\n",
       "      <td>HKEX</td>\n",
       "      <td>00388.HK</td>\n",
       "      <td>31</td>\n",
       "      <td>13</td>\n",
       "      <td>0.409091</td>\n",
       "      <td>NOW.1069199</td>\n",
       "      <td>1</td>\n",
       "    </tr>\n",
       "    <tr>\n",
       "      <th>5685</th>\n",
       "      <td>A-LIVING (03319.HK) Sees FY20 NP Up At Least 4...</td>\n",
       "      <td>http://www.aastocks.com/en/stocks/news/aafn-co...</td>\n",
       "      <td>2021-01-25 08:19:00</td>\n",
       "      <td>A-LIVING has issued a positive profit alert, e...</td>\n",
       "      <td>A-LIVING</td>\n",
       "      <td>03319.HK</td>\n",
       "      <td>71</td>\n",
       "      <td>27</td>\n",
       "      <td>0.448980</td>\n",
       "      <td>NOW.1071381</td>\n",
       "      <td>1</td>\n",
       "    </tr>\n",
       "    <tr>\n",
       "      <th>4708</th>\n",
       "      <td>US WeChat Users File Lawsuit Against TENCENT f...</td>\n",
       "      <td>http://www.aastocks.com/en/stocks/news/aafn-co...</td>\n",
       "      <td>2021-01-13 08:50:00</td>\n",
       "      <td>U.S. NGO Citizen Power Initiatives for China a...</td>\n",
       "      <td>U.S. NGO Citizen Power Initiatives for China a...</td>\n",
       "      <td>00700.HK</td>\n",
       "      <td>46</td>\n",
       "      <td>44</td>\n",
       "      <td>0.022222</td>\n",
       "      <td>NOW.1068710</td>\n",
       "      <td>0</td>\n",
       "    </tr>\n",
       "    <tr>\n",
       "      <th>5228</th>\n",
       "      <td>Carrie Lam: Jobless Claim Hardly Feasible in H...</td>\n",
       "      <td>http://www.aastocks.com/en/stocks/news/aafn-co...</td>\n",
       "      <td>2021-01-19 10:24:00</td>\n",
       "      <td>In response to street proposals for unemployme...</td>\n",
       "      <td></td>\n",
       "      <td></td>\n",
       "      <td>4</td>\n",
       "      <td>16</td>\n",
       "      <td>-0.600000</td>\n",
       "      <td>NOW.1070189</td>\n",
       "      <td>-1</td>\n",
       "    </tr>\n",
       "    <tr>\n",
       "      <th>3574</th>\n",
       "      <td>ESPRIT HOLDINGS (00330.HK) Non-exec. Chair Ray...</td>\n",
       "      <td>http://www.aastocks.com/en/stocks/news/aafn-co...</td>\n",
       "      <td>2020-12-28 00:26:00</td>\n",
       "      <td>ESPRIT HOLDINGS announced the resignation of R...</td>\n",
       "      <td>ESPRIT HOLDINGS</td>\n",
       "      <td>00330.HK</td>\n",
       "      <td>19</td>\n",
       "      <td>15</td>\n",
       "      <td>0.117647</td>\n",
       "      <td>NOW.1065294</td>\n",
       "      <td>0</td>\n",
       "    </tr>\n",
       "  </tbody>\n",
       "</table>\n",
       "</div>"
      ],
      "text/plain": [
       "                                                  Title  \\\n",
       "4883  Charles Li: HK Stocks Resilient; Recent Turnov...   \n",
       "5685  A-LIVING (03319.HK) Sees FY20 NP Up At Least 4...   \n",
       "4708  US WeChat Users File Lawsuit Against TENCENT f...   \n",
       "5228  Carrie Lam: Jobless Claim Hardly Feasible in H...   \n",
       "3574  ESPRIT HOLDINGS (00330.HK) Non-exec. Chair Ray...   \n",
       "\n",
       "                                                    URL      Time_Published  \\\n",
       "4883  http://www.aastocks.com/en/stocks/news/aafn-co... 2021-01-14 15:10:00   \n",
       "5685  http://www.aastocks.com/en/stocks/news/aafn-co... 2021-01-25 08:19:00   \n",
       "4708  http://www.aastocks.com/en/stocks/news/aafn-co... 2021-01-13 08:50:00   \n",
       "5228  http://www.aastocks.com/en/stocks/news/aafn-co... 2021-01-19 10:24:00   \n",
       "3574  http://www.aastocks.com/en/stocks/news/aafn-co... 2020-12-28 00:26:00   \n",
       "\n",
       "                                              Body_Text  \\\n",
       "4883  HKEX ex-CEO Charles Li found it hard to predic...   \n",
       "5685  A-LIVING has issued a positive profit alert, e...   \n",
       "4708  U.S. NGO Citizen Power Initiatives for China a...   \n",
       "5228  In response to street proposals for unemployme...   \n",
       "3574  ESPRIT HOLDINGS announced the resignation of R...   \n",
       "\n",
       "                                                Company    Symbol  Positive  \\\n",
       "4883                                               HKEX  00388.HK        31   \n",
       "5685                                           A-LIVING  03319.HK        71   \n",
       "4708  U.S. NGO Citizen Power Initiatives for China a...  00700.HK        46   \n",
       "5228                                                                      4   \n",
       "3574                                    ESPRIT HOLDINGS  00330.HK        19   \n",
       "\n",
       "      Negative  Polarity      News_Id  Sentiment  \n",
       "4883        13  0.409091  NOW.1069199          1  \n",
       "5685        27  0.448980  NOW.1071381          1  \n",
       "4708        44  0.022222  NOW.1068710          0  \n",
       "5228        16 -0.600000  NOW.1070189         -1  \n",
       "3574        15  0.117647  NOW.1065294          0  "
      ]
     },
     "execution_count": 4,
     "metadata": {},
     "output_type": "execute_result"
    }
   ],
   "source": [
    "df.head()"
   ]
  },
  {
   "cell_type": "markdown",
   "id": "dc72a06c-ee6b-4349-a573-6649a403eb40",
   "metadata": {},
   "source": [
    "## Save the DataFrame for later chapters"
   ]
  },
  {
   "cell_type": "code",
   "execution_count": 5,
   "id": "215c955a-e7b1-4c8a-b02e-3c64ecb2ca41",
   "metadata": {},
   "outputs": [],
   "source": [
    "df.to_pickle(os.path.join(DATA_PATH, \"df.pkl\"))\n",
    "# df.to_csv(\"df.csv\") # Also save as .csv for easy inspection"
   ]
  },
  {
   "cell_type": "markdown",
   "id": "c2376cc8-54ec-4021-9c9a-1577abb8265e",
   "metadata": {},
   "source": [
    "## Load the pickle back into a DataFrame"
   ]
  },
  {
   "cell_type": "code",
   "execution_count": 6,
   "id": "97b8b4c2-0b8b-48e5-b020-74e4f64627ec",
   "metadata": {},
   "outputs": [
    {
     "name": "stdout",
     "output_type": "stream",
     "text": [
      "(5920, 11)\n"
     ]
    }
   ],
   "source": [
    "import os\n",
    "import pandas as pd\n",
    "df = pd.read_pickle(os.path.join(DATA_PATH, \"df.pkl\"))\n",
    "print(df.shape)"
   ]
  },
  {
   "cell_type": "markdown",
   "id": "a4e803d6-70a7-4f88-a98a-84f29ade4731",
   "metadata": {},
   "source": [
    "## Visualizing the data"
   ]
  },
  {
   "cell_type": "markdown",
   "id": "a4917e45-aff1-4f0e-8764-6f50177f8dab",
   "metadata": {},
   "source": [
    "### Polarity-Time chart"
   ]
  },
  {
   "cell_type": "code",
   "execution_count": 7,
   "id": "e5fe961d-ff5d-4be7-a4f3-24573836f337",
   "metadata": {},
   "outputs": [
    {
     "data": {
      "text/plain": [
       "[<matplotlib.lines.Line2D at 0x2416cf36760>]"
      ]
     },
     "execution_count": 7,
     "metadata": {},
     "output_type": "execute_result"
    },
    {
     "data": {
      "image/png": "[encoded data removed]",
      "text/plain": [
       "<Figure size 1440x360 with 1 Axes>"
      ]
     },
     "metadata": {
      "needs_background": "light"
     },
     "output_type": "display_data"
    }
   ],
   "source": [
    "df_date_only = df.copy()\n",
    "df_date_only[\"Time_Published\"] = df[\"Time_Published\"].dt.floor(\"d\")\n",
    "df_by_date = df_date_only.groupby([\"Time_Published\"], as_index=False).mean()\n",
    "df_by_date.head()\n",
    "\n",
    "import matplotlib.pyplot as plt\n",
    "plt.figure(figsize=(20,5))\n",
    "plt.plot(df_by_date[\"Time_Published\"], df_by_date[\"Polarity\"])"
   ]
  },
  {
   "cell_type": "markdown",
   "id": "7ce9acd8-e6e2-4f23-bdde-f99a9a90348f",
   "metadata": {},
   "source": [
    "### Box plot for a date"
   ]
  },
  {
   "cell_type": "code",
   "execution_count": 8,
   "id": "e20d6193-2c07-4129-9c0b-8d111ea606de",
   "metadata": {},
   "outputs": [
    {
     "data": {
      "application/vnd.jupyter.widget-view+json": {
       "model_id": "6f4a77f1e3be4fa58b335f2bb66d3365",
       "version_major": 2,
       "version_minor": 0
      },
      "text/plain": [
       "Output()"
      ]
     },
     "metadata": {},
     "output_type": "display_data"
    },
    {
     "data": {
      "application/vnd.jupyter.widget-view+json": {
       "model_id": "89488ab00a0c4ba4b07c0051fbc6c3e9",
       "version_major": 2,
       "version_minor": 0
      },
      "text/plain": [
       "Dropdown(description='Date:', options=(('2021-01-14', Timestamp('2021-01-14 00:00:00')), ('2021-01-25', Timest…"
      ]
     },
     "metadata": {},
     "output_type": "display_data"
    }
   ],
   "source": [
    "import ipywidgets as widgets\n",
    "wg = widgets.Dropdown(\n",
    "    options=[(t.strftime(\"%Y-%m-%d\"), t) for t in df_date_only[\"Time_Published\"].drop_duplicates().to_list()],\n",
    "    description='Date:'\n",
    ")\n",
    "\n",
    "out = widgets.Output()\n",
    "display(out)\n",
    "@out.capture()\n",
    "def plot_box_plot(change):\n",
    "    out.clear_output()\n",
    "    df_date_only[df_date_only[\"Time_Published\"] == wg.value].boxplot(column=[\"Polarity\"])\n",
    "    plt.show()\n",
    "\n",
    "wg.on_displayed(plot_box_plot)\n",
    "wg.observe(plot_box_plot, names=[\"value\"])\n",
    "display(wg)"
   ]
  },
  {
   "cell_type": "markdown",
   "id": "382d70c1-2f0e-44bf-b803-626b9f1ceb1c",
   "metadata": {},
   "source": [
    "### Distribution of polarities"
   ]
  },
  {
   "cell_type": "code",
   "execution_count": 9,
   "id": "2783a46c-ea35-4c0e-9f05-4effead6fca3",
   "metadata": {},
   "outputs": [
    {
     "data": {
      "text/plain": [
       "<BarContainer object of 3 artists>"
      ]
     },
     "execution_count": 9,
     "metadata": {},
     "output_type": "execute_result"
    },
    {
     "data": {
      "image/png": "[encoded data removed]",
      "text/plain": [
       "<Figure size 360x360 with 1 Axes>"
      ]
     },
     "metadata": {
      "needs_background": "light"
     },
     "output_type": "display_data"
    }
   ],
   "source": [
    "distr = {\n",
    "    \"positive\": len(df[df[\"Sentiment\"] == 1]),\n",
    "    \"neutral\": len(df[df[\"Sentiment\"] == 0]),\n",
    "    \"negative\": len(df[df[\"Sentiment\"] == -1]),\n",
    "}\n",
    "\n",
    "plt.figure(figsize=(5,5))\n",
    "plt.bar(distr.keys(), distr.values())"
   ]
  },
  {
   "cell_type": "markdown",
   "id": "a19156ae-0d39-4f92-92c5-13696b942a10",
   "metadata": {},
   "source": [
    "So, the data is skewed towards the positive side (which is quite normal for crowdsourced sentiments like that on Stocktwits)."
   ]
  },
  {
   "cell_type": "markdown",
   "id": "665065c5-86dd-4867-ba1c-82cd135fbcce",
   "metadata": {},
   "source": [
    "## Baseline using Zero Rule"
   ]
  },
  {
   "cell_type": "code",
   "execution_count": 10,
   "id": "10d31359-bd50-4072-b621-4d8b1244d876",
   "metadata": {},
   "outputs": [
    {
     "name": "stdout",
     "output_type": "stream",
     "text": [
      "Baseline accuracy: 0.6138513513513514\n"
     ]
    }
   ],
   "source": [
    "print(\"Baseline accuracy:\", max(distr.values()) / sum(distr.values()))"
   ]
  }
 ],
 "metadata": {
  "kernelspec": {
   "display_name": "Python 3",
   "language": "python",
   "name": "python3"
  },
  "language_info": {
   "codemirror_mode": {
    "name": "ipython",
    "version": 3
   },
   "file_extension": ".py",
   "mimetype": "text/x-python",
   "name": "python",
   "nbconvert_exporter": "python",
   "pygments_lexer": "ipython3",
   "version": "3.9.5"
  }
 },
 "nbformat": 4,
 "nbformat_minor": 5
}
