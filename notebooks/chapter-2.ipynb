{
 "cells": [
  {
   "cell_type": "markdown",
   "id": "ffd9df5a-7443-4cf4-9d3d-86bbfccc6fcb",
   "metadata": {},
   "source": [
    "# Chapter 2: Loading and visualizing data"
   ]
  },
  {
   "cell_type": "code",
   "execution_count": 1,
   "id": "a8dd660b-4428-4bc2-82c2-d24af27929ac",
   "metadata": {},
   "outputs": [],
   "source": [
    "import configparser\n",
    "from getpass import getuser\n",
    "config = configparser.ConfigParser()\n",
    "config.read(f\"../config/{getuser()}.ini\")\n",
    "if len(config.sections()) == 0:\n",
    "    config.read(\"config/default.ini\")\n",
    "DATA_PATH = config[\"Data\"][\"path\"]"
   ]
  },
  {
   "cell_type": "markdown",
   "id": "04ba1964-49a5-4201-836c-d1648a1aca60",
   "metadata": {},
   "source": [
    "## Construct a DataFrame from the .json files"
   ]
  },
  {
   "cell_type": "code",
   "execution_count": 2,
   "id": "d0d37cf6-428a-487c-abaf-31eeeeb06f99",
   "metadata": {},
   "outputs": [
    {
     "name": "stdout",
     "output_type": "stream",
     "text": [
      "(7131, 11)\n"
     ]
    }
   ],
   "source": [
    "import os\n",
    "import json\n",
    "import pandas as pd\n",
    "\n",
    "data = []\n",
    "\n",
    "for file in os.listdir(DATA_PATH):\n",
    "    if file.endswith(\".json\"):\n",
    "        with open(os.path.join(DATA_PATH, file), \"r\") as f:\n",
    "            data.append(json.load(f))\n",
    "\n",
    "df = pd.DataFrame(data)\n",
    "df[\"Time_Published\"] = pd.to_datetime(df[\"Time_Published\"])\n",
    "df[\"Sentiment\"] = df.apply(lambda x: 1 if x[\"Polarity\"] > 0.1 else 0 if abs(x[\"Polarity\"]) <= 0.1 else -1, axis=1)\n",
    "print(df.shape)"
   ]
  },
  {
   "cell_type": "markdown",
   "id": "a4547d78-a309-42c6-aeff-0f2f78aca745",
   "metadata": {},
   "source": [
    "First few entries in the DataFrame"
   ]
  },
  {
   "cell_type": "code",
   "execution_count": 3,
   "id": "bf70709c-1a99-4d0f-8d77-b939a931aa95",
   "metadata": {},
   "outputs": [
    {
     "data": {
      "text/html": [
       "<div>\n",
       "<style scoped>\n",
       "    .dataframe tbody tr th:only-of-type {\n",
       "        vertical-align: middle;\n",
       "    }\n",
       "\n",
       "    .dataframe tbody tr th {\n",
       "        vertical-align: top;\n",
       "    }\n",
       "\n",
       "    .dataframe thead th {\n",
       "        text-align: right;\n",
       "    }\n",
       "</style>\n",
       "<table border=\"1\" class=\"dataframe\">\n",
       "  <thead>\n",
       "    <tr style=\"text-align: right;\">\n",
       "      <th></th>\n",
       "      <th>Title</th>\n",
       "      <th>URL</th>\n",
       "      <th>Time_Published</th>\n",
       "      <th>Body_Text</th>\n",
       "      <th>Company</th>\n",
       "      <th>Symbol</th>\n",
       "      <th>Positive</th>\n",
       "      <th>Negative</th>\n",
       "      <th>Polarity</th>\n",
       "      <th>News_Id</th>\n",
       "      <th>Sentiment</th>\n",
       "    </tr>\n",
       "  </thead>\n",
       "  <tbody>\n",
       "    <tr>\n",
       "      <th>0</th>\n",
       "      <td>Trump Moves to Military Hospital as Precaution...</td>\n",
       "      <td>http://www.aastocks.com/en/stocks/news/aafn-co...</td>\n",
       "      <td>2020-10-03 08:13:00</td>\n",
       "      <td>US President Donald Trump moved to a military ...</td>\n",
       "      <td></td>\n",
       "      <td></td>\n",
       "      <td>44</td>\n",
       "      <td>38</td>\n",
       "      <td>0.073171</td>\n",
       "      <td>NOW.1046693</td>\n",
       "      <td>0</td>\n",
       "    </tr>\n",
       "    <tr>\n",
       "      <th>1</th>\n",
       "      <td>HKADR Projects HSI to Open Up 352 pts to 23,81...</td>\n",
       "      <td>http://www.aastocks.com/en/stocks/news/aafn-co...</td>\n",
       "      <td>2020-10-03 08:30:00</td>\n",
       "      <td>ADR Code│Relative price (HKD)│Premium of HK st...</td>\n",
       "      <td>ADR Code│Relative price</td>\n",
       "      <td>HKD</td>\n",
       "      <td>8</td>\n",
       "      <td>4</td>\n",
       "      <td>0.333333</td>\n",
       "      <td>NOW.1046694</td>\n",
       "      <td>1</td>\n",
       "    </tr>\n",
       "    <tr>\n",
       "      <th>2</th>\n",
       "      <td>UK, French Mkts Rise on Hopes of More Relief M...</td>\n",
       "      <td>http://www.aastocks.com/en/stocks/news/aafn-co...</td>\n",
       "      <td>2020-10-03 08:19:00</td>\n",
       "      <td>UK and French bourses clawed back as Washingto...</td>\n",
       "      <td></td>\n",
       "      <td></td>\n",
       "      <td>2</td>\n",
       "      <td>0</td>\n",
       "      <td>1.000000</td>\n",
       "      <td>NOW.1046695</td>\n",
       "      <td>1</td>\n",
       "    </tr>\n",
       "    <tr>\n",
       "      <th>3</th>\n",
       "      <td>DJIA Narrows Loss to 134 Pts After Trump Contr...</td>\n",
       "      <td>http://www.aastocks.com/en/stocks/news/aafn-co...</td>\n",
       "      <td>2020-10-03 08:26:00</td>\n",
       "      <td>DJIA futures once collapsed over 500 pts after...</td>\n",
       "      <td></td>\n",
       "      <td></td>\n",
       "      <td>3</td>\n",
       "      <td>1</td>\n",
       "      <td>0.500000</td>\n",
       "      <td>NOW.1046696</td>\n",
       "      <td>1</td>\n",
       "    </tr>\n",
       "    <tr>\n",
       "      <th>4</th>\n",
       "      <td>VIX Index Up 3.5%</td>\n",
       "      <td>http://www.aastocks.com/en/stocks/news/aafn-co...</td>\n",
       "      <td>2020-10-03 08:27:00</td>\n",
       "      <td>VIX Index rose 0.93 pts, or 3.5%, to 27.63.</td>\n",
       "      <td></td>\n",
       "      <td></td>\n",
       "      <td>3</td>\n",
       "      <td>1</td>\n",
       "      <td>0.500000</td>\n",
       "      <td>NOW.1046697</td>\n",
       "      <td>1</td>\n",
       "    </tr>\n",
       "  </tbody>\n",
       "</table>\n",
       "</div>"
      ],
      "text/plain": [
       "                                               Title  \\\n",
       "0  Trump Moves to Military Hospital as Precaution...   \n",
       "1  HKADR Projects HSI to Open Up 352 pts to 23,81...   \n",
       "2  UK, French Mkts Rise on Hopes of More Relief M...   \n",
       "3  DJIA Narrows Loss to 134 Pts After Trump Contr...   \n",
       "4                                  VIX Index Up 3.5%   \n",
       "\n",
       "                                                 URL      Time_Published  \\\n",
       "0  http://www.aastocks.com/en/stocks/news/aafn-co... 2020-10-03 08:13:00   \n",
       "1  http://www.aastocks.com/en/stocks/news/aafn-co... 2020-10-03 08:30:00   \n",
       "2  http://www.aastocks.com/en/stocks/news/aafn-co... 2020-10-03 08:19:00   \n",
       "3  http://www.aastocks.com/en/stocks/news/aafn-co... 2020-10-03 08:26:00   \n",
       "4  http://www.aastocks.com/en/stocks/news/aafn-co... 2020-10-03 08:27:00   \n",
       "\n",
       "                                           Body_Text                  Company  \\\n",
       "0  US President Donald Trump moved to a military ...                            \n",
       "1  ADR Code│Relative price (HKD)│Premium of HK st...  ADR Code│Relative price   \n",
       "2  UK and French bourses clawed back as Washingto...                            \n",
       "3  DJIA futures once collapsed over 500 pts after...                            \n",
       "4        VIX Index rose 0.93 pts, or 3.5%, to 27.63.                            \n",
       "\n",
       "  Symbol  Positive  Negative  Polarity      News_Id  Sentiment  \n",
       "0               44        38  0.073171  NOW.1046693          0  \n",
       "1    HKD         8         4  0.333333  NOW.1046694          1  \n",
       "2                2         0  1.000000  NOW.1046695          1  \n",
       "3                3         1  0.500000  NOW.1046696          1  \n",
       "4                3         1  0.500000  NOW.1046697          1  "
      ]
     },
     "execution_count": 3,
     "metadata": {},
     "output_type": "execute_result"
    }
   ],
   "source": [
    "df.head()"
   ]
  },
  {
   "cell_type": "markdown",
   "id": "dc72a06c-ee6b-4349-a573-6649a403eb40",
   "metadata": {},
   "source": [
    "## Save the DataFrame for later chapters"
   ]
  },
  {
   "cell_type": "code",
   "execution_count": 4,
   "id": "215c955a-e7b1-4c8a-b02e-3c64ecb2ca41",
   "metadata": {},
   "outputs": [],
   "source": [
    "df.to_pickle(os.path.join(DATA_PATH, \"df.pkl\"))"
   ]
  },
  {
   "cell_type": "markdown",
   "id": "c2376cc8-54ec-4021-9c9a-1577abb8265e",
   "metadata": {},
   "source": [
    "## Load the pickle back into a DataFrame"
   ]
  },
  {
   "cell_type": "code",
   "execution_count": 5,
   "id": "97b8b4c2-0b8b-48e5-b020-74e4f64627ec",
   "metadata": {},
   "outputs": [
    {
     "name": "stdout",
     "output_type": "stream",
     "text": [
      "(7131, 11)\n"
     ]
    }
   ],
   "source": [
    "import os\n",
    "import pandas as pd\n",
    "df = pd.read_pickle(os.path.join(DATA_PATH, \"df.pkl\"))\n",
    "print(df.shape)"
   ]
  },
  {
   "cell_type": "markdown",
   "id": "a4e803d6-70a7-4f88-a98a-84f29ade4731",
   "metadata": {},
   "source": [
    "## Visualizing the data"
   ]
  },
  {
   "cell_type": "markdown",
   "id": "a4917e45-aff1-4f0e-8764-6f50177f8dab",
   "metadata": {},
   "source": [
    "### Polarity-Time chart"
   ]
  },
  {
   "cell_type": "code",
   "execution_count": 6,
   "id": "e5fe961d-ff5d-4be7-a4f3-24573836f337",
   "metadata": {},
   "outputs": [
    {
     "data": {
      "text/plain": [
       "[<matplotlib.lines.Line2D at 0x1fe9a9d1fd0>]"
      ]
     },
     "execution_count": 6,
     "metadata": {},
     "output_type": "execute_result"
    },
    {
     "data": {
      "image/png": "[encoded data removed]",
      "text/plain": [
       "<Figure size 1440x360 with 1 Axes>"
      ]
     },
     "metadata": {
      "needs_background": "light"
     },
     "output_type": "display_data"
    }
   ],
   "source": [
    "df_date_only = df.copy()\n",
    "df_date_only[\"Time_Published\"] = df[\"Time_Published\"].dt.floor(\"d\")\n",
    "df_by_date = df_date_only.groupby([\"Time_Published\"], as_index=False).mean()\n",
    "df_by_date.head()\n",
    "\n",
    "import matplotlib.pyplot as plt\n",
    "plt.figure(figsize=(20,5))\n",
    "plt.plot(df_by_date[\"Time_Published\"], df_by_date[\"Polarity\"])"
   ]
  },
  {
   "cell_type": "markdown",
   "id": "7ce9acd8-e6e2-4f23-bdde-f99a9a90348f",
   "metadata": {},
   "source": [
    "### Box plot for a date"
   ]
  },
  {
   "cell_type": "code",
   "execution_count": 7,
   "id": "e20d6193-2c07-4129-9c0b-8d111ea606de",
   "metadata": {},
   "outputs": [
    {
     "data": {
      "application/vnd.jupyter.widget-view+json": {
       "model_id": "983dfc29483d41bcbcc02eaa85934f34",
       "version_major": 2,
       "version_minor": 0
      },
      "text/plain": [
       "Output()"
      ]
     },
     "metadata": {},
     "output_type": "display_data"
    },
    {
     "data": {
      "application/vnd.jupyter.widget-view+json": {
       "model_id": "f2e5731f581140798d71ea72d1e53878",
       "version_major": 2,
       "version_minor": 0
      },
      "text/plain": [
       "Dropdown(description='Date:', options=(('2020-10-03', Timestamp('2020-10-03 00:00:00')), ('2020-10-04', Timest…"
      ]
     },
     "metadata": {},
     "output_type": "display_data"
    }
   ],
   "source": [
    "import ipywidgets as widgets\n",
    "wg = widgets.Dropdown(\n",
    "    options=[(t.strftime(\"%Y-%m-%d\"), t) for t in df_date_only[\"Time_Published\"].drop_duplicates().to_list()],\n",
    "    description='Date:'\n",
    ")\n",
    "\n",
    "out = widgets.Output()\n",
    "display(out)\n",
    "@out.capture()\n",
    "def plot_box_plot(change):\n",
    "    out.clear_output()\n",
    "    df_date_only[df_date_only[\"Time_Published\"] == wg.value].boxplot(column=[\"Polarity\"])\n",
    "    plt.show()\n",
    "\n",
    "wg.on_displayed(plot_box_plot)\n",
    "wg.observe(plot_box_plot, names=[\"value\"])\n",
    "display(wg)"
   ]
  },
  {
   "cell_type": "markdown",
   "id": "382d70c1-2f0e-44bf-b803-626b9f1ceb1c",
   "metadata": {},
   "source": [
    "### Distribution of polarities"
   ]
  },
  {
   "cell_type": "code",
   "execution_count": 8,
   "id": "2783a46c-ea35-4c0e-9f05-4effead6fca3",
   "metadata": {},
   "outputs": [
    {
     "data": {
      "text/plain": [
       "<BarContainer object of 3 artists>"
      ]
     },
     "execution_count": 8,
     "metadata": {},
     "output_type": "execute_result"
    },
    {
     "data": {
      "image/png": "[encoded data removed]",
      "text/plain": [
       "<Figure size 360x360 with 1 Axes>"
      ]
     },
     "metadata": {
      "needs_background": "light"
     },
     "output_type": "display_data"
    }
   ],
   "source": [
    "distr = {\n",
    "    \"positive\": len(df[df[\"Sentiment\"] == 1]),\n",
    "    \"neutral\": len(df[df[\"Sentiment\"] == 0]),\n",
    "    \"negative\": len(df[df[\"Sentiment\"] == -1]),\n",
    "}\n",
    "\n",
    "plt.figure(figsize=(5,5))\n",
    "plt.bar(distr.keys(), distr.values())"
   ]
  },
  {
   "cell_type": "markdown",
   "id": "a19156ae-0d39-4f92-92c5-13696b942a10",
   "metadata": {},
   "source": [
    "So, the data is skewed towards the positive side (which is quite normal for crowdsourced sentiments like that on Stocktwits)."
   ]
  },
  {
   "cell_type": "markdown",
   "id": "665065c5-86dd-4867-ba1c-82cd135fbcce",
   "metadata": {},
   "source": [
    "## Baseline using Zero Rule"
   ]
  },
  {
   "cell_type": "code",
   "execution_count": 9,
   "id": "10d31359-bd50-4072-b621-4d8b1244d876",
   "metadata": {},
   "outputs": [
    {
     "name": "stdout",
     "output_type": "stream",
     "text": [
      "Baseline accuracy: 0.7200953582947693\n"
     ]
    }
   ],
   "source": [
    "print(\"Baseline accuracy:\", max(distr.values()) / sum(distr.values()))"
   ]
  }
 ],
 "metadata": {
  "kernelspec": {
   "display_name": "Python 3",
   "language": "python",
   "name": "python3"
  },
  "language_info": {
   "codemirror_mode": {
    "name": "ipython",
    "version": 3
   },
   "file_extension": ".py",
   "mimetype": "text/x-python",
   "name": "python",
   "nbconvert_exporter": "python",
   "pygments_lexer": "ipython3",
   "version": "3.9.5"
  }
 },
 "nbformat": 4,
 "nbformat_minor": 5
}
