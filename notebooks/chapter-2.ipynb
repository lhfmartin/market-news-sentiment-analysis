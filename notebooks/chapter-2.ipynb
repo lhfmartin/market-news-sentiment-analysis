{
 "cells": [
  {
   "cell_type": "markdown",
   "id": "ffd9df5a-7443-4cf4-9d3d-86bbfccc6fcb",
   "metadata": {},
   "source": [
    "# Chapter 2: Loading and visualizing data"
   ]
  },
  {
   "cell_type": "code",
   "execution_count": 1,
   "id": "a8dd660b-4428-4bc2-82c2-d24af27929ac",
   "metadata": {},
   "outputs": [],
   "source": [
    "import configparser\n",
    "from getpass import getuser\n",
    "config = configparser.ConfigParser()\n",
    "config.read(f\"../config/{getuser()}.ini\")\n",
    "if len(config.sections()) == 0:\n",
    "    config.read(\"config/default.ini\")\n",
    "DATA_PATH = config[\"Data\"][\"path\"]"
   ]
  },
  {
   "cell_type": "markdown",
   "id": "04ba1964-49a5-4201-836c-d1648a1aca60",
   "metadata": {},
   "source": [
    "## Construct a DataFrame from the .json files"
   ]
  },
  {
   "cell_type": "code",
   "execution_count": 2,
   "id": "d0d37cf6-428a-487c-abaf-31eeeeb06f99",
   "metadata": {},
   "outputs": [
    {
     "name": "stdout",
     "output_type": "stream",
     "text": [
      "(7131, 10)\n"
     ]
    }
   ],
   "source": [
    "import os\n",
    "import json\n",
    "import pandas as pd\n",
    "\n",
    "data = []\n",
    "\n",
    "for file in os.listdir(DATA_PATH):\n",
    "    if file.endswith(\".json\"):\n",
    "        with open(os.path.join(DATA_PATH, file), \"r\") as f:\n",
    "            data.append(json.load(f))\n",
    "\n",
    "df = pd.DataFrame(data)\n",
    "df[\"Time_Published\"] = pd.to_datetime(df[\"Time_Published\"])\n",
    "print(df.shape)"
   ]
  },
  {
   "cell_type": "markdown",
   "id": "a4547d78-a309-42c6-aeff-0f2f78aca745",
   "metadata": {},
   "source": [
    "First few entries in the DataFrame"
   ]
  },
  {
   "cell_type": "code",
   "execution_count": 3,
   "id": "bf70709c-1a99-4d0f-8d77-b939a931aa95",
   "metadata": {},
   "outputs": [
    {
     "data": {
      "text/html": [
       "<div>\n",
       "<style scoped>\n",
       "    .dataframe tbody tr th:only-of-type {\n",
       "        vertical-align: middle;\n",
       "    }\n",
       "\n",
       "    .dataframe tbody tr th {\n",
       "        vertical-align: top;\n",
       "    }\n",
       "\n",
       "    .dataframe thead th {\n",
       "        text-align: right;\n",
       "    }\n",
       "</style>\n",
       "<table border=\"1\" class=\"dataframe\">\n",
       "  <thead>\n",
       "    <tr style=\"text-align: right;\">\n",
       "      <th></th>\n",
       "      <th>Title</th>\n",
       "      <th>URL</th>\n",
       "      <th>Time_Published</th>\n",
       "      <th>Body_Text</th>\n",
       "      <th>Company</th>\n",
       "      <th>Symbol</th>\n",
       "      <th>Positive</th>\n",
       "      <th>Negative</th>\n",
       "      <th>Polarity</th>\n",
       "      <th>News_Id</th>\n",
       "    </tr>\n",
       "  </thead>\n",
       "  <tbody>\n",
       "    <tr>\n",
       "      <th>0</th>\n",
       "      <td>Trump Moves to Military Hospital as Precaution...</td>\n",
       "      <td>http://www.aastocks.com/en/stocks/news/aafn-co...</td>\n",
       "      <td>2020-10-03 08:13:00</td>\n",
       "      <td>US President Donald Trump moved to a military ...</td>\n",
       "      <td></td>\n",
       "      <td></td>\n",
       "      <td>44</td>\n",
       "      <td>38</td>\n",
       "      <td>0.073171</td>\n",
       "      <td>NOW.1046693</td>\n",
       "    </tr>\n",
       "    <tr>\n",
       "      <th>1</th>\n",
       "      <td>HKADR Projects HSI to Open Up 352 pts to 23,81...</td>\n",
       "      <td>http://www.aastocks.com/en/stocks/news/aafn-co...</td>\n",
       "      <td>2020-10-03 08:30:00</td>\n",
       "      <td>ADR Code│Relative price (HKD)│Premium of HK st...</td>\n",
       "      <td>ADR Code│Relative price</td>\n",
       "      <td>HKD</td>\n",
       "      <td>8</td>\n",
       "      <td>4</td>\n",
       "      <td>0.333333</td>\n",
       "      <td>NOW.1046694</td>\n",
       "    </tr>\n",
       "    <tr>\n",
       "      <th>2</th>\n",
       "      <td>UK, French Mkts Rise on Hopes of More Relief M...</td>\n",
       "      <td>http://www.aastocks.com/en/stocks/news/aafn-co...</td>\n",
       "      <td>2020-10-03 08:19:00</td>\n",
       "      <td>UK and French bourses clawed back as Washingto...</td>\n",
       "      <td></td>\n",
       "      <td></td>\n",
       "      <td>2</td>\n",
       "      <td>0</td>\n",
       "      <td>1.000000</td>\n",
       "      <td>NOW.1046695</td>\n",
       "    </tr>\n",
       "    <tr>\n",
       "      <th>3</th>\n",
       "      <td>DJIA Narrows Loss to 134 Pts After Trump Contr...</td>\n",
       "      <td>http://www.aastocks.com/en/stocks/news/aafn-co...</td>\n",
       "      <td>2020-10-03 08:26:00</td>\n",
       "      <td>DJIA futures once collapsed over 500 pts after...</td>\n",
       "      <td></td>\n",
       "      <td></td>\n",
       "      <td>3</td>\n",
       "      <td>1</td>\n",
       "      <td>0.500000</td>\n",
       "      <td>NOW.1046696</td>\n",
       "    </tr>\n",
       "    <tr>\n",
       "      <th>4</th>\n",
       "      <td>VIX Index Up 3.5%</td>\n",
       "      <td>http://www.aastocks.com/en/stocks/news/aafn-co...</td>\n",
       "      <td>2020-10-03 08:27:00</td>\n",
       "      <td>VIX Index rose 0.93 pts, or 3.5%, to 27.63.</td>\n",
       "      <td></td>\n",
       "      <td></td>\n",
       "      <td>3</td>\n",
       "      <td>1</td>\n",
       "      <td>0.500000</td>\n",
       "      <td>NOW.1046697</td>\n",
       "    </tr>\n",
       "  </tbody>\n",
       "</table>\n",
       "</div>"
      ],
      "text/plain": [
       "                                               Title  \\\n",
       "0  Trump Moves to Military Hospital as Precaution...   \n",
       "1  HKADR Projects HSI to Open Up 352 pts to 23,81...   \n",
       "2  UK, French Mkts Rise on Hopes of More Relief M...   \n",
       "3  DJIA Narrows Loss to 134 Pts After Trump Contr...   \n",
       "4                                  VIX Index Up 3.5%   \n",
       "\n",
       "                                                 URL      Time_Published  \\\n",
       "0  http://www.aastocks.com/en/stocks/news/aafn-co... 2020-10-03 08:13:00   \n",
       "1  http://www.aastocks.com/en/stocks/news/aafn-co... 2020-10-03 08:30:00   \n",
       "2  http://www.aastocks.com/en/stocks/news/aafn-co... 2020-10-03 08:19:00   \n",
       "3  http://www.aastocks.com/en/stocks/news/aafn-co... 2020-10-03 08:26:00   \n",
       "4  http://www.aastocks.com/en/stocks/news/aafn-co... 2020-10-03 08:27:00   \n",
       "\n",
       "                                           Body_Text                  Company  \\\n",
       "0  US President Donald Trump moved to a military ...                            \n",
       "1  ADR Code│Relative price (HKD)│Premium of HK st...  ADR Code│Relative price   \n",
       "2  UK and French bourses clawed back as Washingto...                            \n",
       "3  DJIA futures once collapsed over 500 pts after...                            \n",
       "4        VIX Index rose 0.93 pts, or 3.5%, to 27.63.                            \n",
       "\n",
       "  Symbol  Positive  Negative  Polarity      News_Id  \n",
       "0               44        38  0.073171  NOW.1046693  \n",
       "1    HKD         8         4  0.333333  NOW.1046694  \n",
       "2                2         0  1.000000  NOW.1046695  \n",
       "3                3         1  0.500000  NOW.1046696  \n",
       "4                3         1  0.500000  NOW.1046697  "
      ]
     },
     "execution_count": 3,
     "metadata": {},
     "output_type": "execute_result"
    }
   ],
   "source": [
    "df.head()"
   ]
  },
  {
   "cell_type": "markdown",
   "id": "dc72a06c-ee6b-4349-a573-6649a403eb40",
   "metadata": {},
   "source": [
    "## Save the DataFrame for later chapters"
   ]
  },
  {
   "cell_type": "code",
   "execution_count": 4,
   "id": "215c955a-e7b1-4c8a-b02e-3c64ecb2ca41",
   "metadata": {},
   "outputs": [],
   "source": [
    "df.to_pickle(os.path.join(DATA_PATH, \"df.pkl\"))"
   ]
  },
  {
   "cell_type": "markdown",
   "id": "c2376cc8-54ec-4021-9c9a-1577abb8265e",
   "metadata": {},
   "source": [
    "## Load the pickle back into a DataFrame"
   ]
  },
  {
   "cell_type": "code",
   "execution_count": 5,
   "id": "97b8b4c2-0b8b-48e5-b020-74e4f64627ec",
   "metadata": {},
   "outputs": [
    {
     "name": "stdout",
     "output_type": "stream",
     "text": [
      "(7131, 10)\n"
     ]
    }
   ],
   "source": [
    "import os\n",
    "import pandas as pd\n",
    "df = pd.read_pickle(os.path.join(DATA_PATH, \"df.pkl\"))\n",
    "print(df.shape)"
   ]
  },
  {
   "cell_type": "markdown",
   "id": "a4e803d6-70a7-4f88-a98a-84f29ade4731",
   "metadata": {},
   "source": [
    "## Visualizing the data"
   ]
  },
  {
   "cell_type": "markdown",
   "id": "a4917e45-aff1-4f0e-8764-6f50177f8dab",
   "metadata": {},
   "source": [
    "### Polarity-Time chart"
   ]
  },
  {
   "cell_type": "code",
   "execution_count": 6,
   "id": "e5fe961d-ff5d-4be7-a4f3-24573836f337",
   "metadata": {},
   "outputs": [],
   "source": [
    "df_date_only = df.copy()\n",
    "df_date_only[\"Time_Published\"] = df[\"Time_Published\"].dt.floor(\"d\")\n",
    "df_by_date = df_date_only.groupby([\"Time_Published\"], as_index=False).mean()\n",
    "df_by_date.head()\n",
    "\n",
    "import matplotlib.pyplot as plt\n",
    "plt.figure(figsize=(20,5))\n",
    "plt.plot(df_by_date[\"Time_Published\"], df_by_date[\"Polarity\"])\n",
    "plt.close()"
   ]
  },
  {
   "cell_type": "markdown",
   "id": "7ce9acd8-e6e2-4f23-bdde-f99a9a90348f",
   "metadata": {},
   "source": [
    "### Box plot for a date"
   ]
  },
  {
   "cell_type": "code",
   "execution_count": 7,
   "id": "e20d6193-2c07-4129-9c0b-8d111ea606de",
   "metadata": {},
   "outputs": [
    {
     "data": {
      "application/vnd.jupyter.widget-view+json": {
       "model_id": "12a1ec5267f94c98bdec1e9833396d20",
       "version_major": 2,
       "version_minor": 0
      },
      "text/plain": [
       "Output()"
      ]
     },
     "metadata": {},
     "output_type": "display_data"
    },
    {
     "data": {
      "application/vnd.jupyter.widget-view+json": {
       "model_id": "5127ecc2f4464891b2caf9bdb72ad3c4",
       "version_major": 2,
       "version_minor": 0
      },
      "text/plain": [
       "Dropdown(description='Date:', options=(('2020-10-03', Timestamp('2020-10-03 00:00:00')), ('2020-10-04', Timest…"
      ]
     },
     "metadata": {},
     "output_type": "display_data"
    }
   ],
   "source": [
    "import ipywidgets as widgets\n",
    "wg = widgets.Dropdown(\n",
    "    options=[(t.strftime(\"%Y-%m-%d\"), t) for t in df_date_only[\"Time_Published\"].drop_duplicates().to_list()],\n",
    "    description='Date:'\n",
    ")\n",
    "\n",
    "out = widgets.Output()\n",
    "display(out)\n",
    "@out.capture()\n",
    "def plot_box_plot(change):\n",
    "    out.clear_output()\n",
    "    df_date_only[df_date_only[\"Time_Published\"] == wg.value].boxplot(column=[\"Polarity\"])\n",
    "    plt.show()\n",
    "\n",
    "wg.on_displayed(plot_box_plot)\n",
    "wg.observe(plot_box_plot, names=[\"value\"])\n",
    "display(wg)"
   ]
  }
 ],
 "metadata": {
  "kernelspec": {
   "display_name": "Python 3",
   "language": "python",
   "name": "python3"
  },
  "language_info": {
   "codemirror_mode": {
    "name": "ipython",
    "version": 3
   },
   "file_extension": ".py",
   "mimetype": "text/x-python",
   "name": "python",
   "nbconvert_exporter": "python",
   "pygments_lexer": "ipython3",
   "version": "3.9.5"
  }
 },
 "nbformat": 4,
 "nbformat_minor": 5
}
