{
 "cells": [
  {
   "cell_type": "markdown",
   "metadata": {},
   "source": [
    "# Chapter 1: Scrapping news from [AASTOCKS](http://www.aastocks.com/)"
   ]
  },
  {
   "cell_type": "markdown",
   "metadata": {},
   "source": [
    "## Specify the location to store the data"
   ]
  },
  {
   "cell_type": "code",
   "execution_count": 94,
   "metadata": {},
   "outputs": [],
   "source": [
    "DATA_PATH = \"../data/aastocks\""
   ]
  },
  {
   "cell_type": "markdown",
   "metadata": {},
   "source": [
    "## Parse information from a news article"
   ]
  },
  {
   "cell_type": "code",
   "execution_count": 95,
   "metadata": {},
   "outputs": [],
   "source": [
    "import re\n",
    "import requests\n",
    "from bs4 import BeautifulSoup\n",
    "\n",
    "def download_news(news_id: str):\n",
    "    url = f\"http://www.aastocks.com/en/stocks/news/aafn-con/{news_id}/\"\n",
    "    html = requests.get(url).text\n",
    "    html = str(BeautifulSoup(html))\n",
    "    \n",
    "    try:\n",
    "        text = re.search('<div class=\"newscontent5 fLevel3\" id=\"spanContent\"> <span> <p>(.*?)<br/>', html).group(1)\n",
    "    except AttributeError:\n",
    "        text = \"\"\n",
    "    \n",
    "    news = {}\n",
    "    news[\"Title\"] = re.search('<div class=\"NewsShare_share_title\">(.*?)</div>', html).group(1)\n",
    "    news[\"URL\"] = url\n",
    "    news[\"Time_Published\"] = re.search('<div class=\"float_l newstime5\">(.*?)</div>', html).group(1)\n",
    "    news[\"Body_Text\"] = re.sub(' \\(.*?<span class=\"jssc inline_block\">(.*?)</a>', \"\", text)\n",
    "    news[\"Body_Text\"] = re.sub('<a.*?class=\"jsSS\".*?</a>', \"\", news[\"Body_Text\"])\n",
    "    \n",
    "    try:\n",
    "        news[\"Company\"] = re.search(\"(.*?)\\(\", text).group(1).strip()\n",
    "    except AttributeError:\n",
    "        news[\"Company\"] = \"\"\n",
    "    try:\n",
    "#         news[\"Symbol\"] = re.search('var rscData = \\[{\"s\":\"(.*?)\"', html).group(1)\n",
    "        news[\"Symbol\"] = re.search(\"\\((.*?)\\)\", text).group(1)\n",
    "    except AttributeError:\n",
    "        news[\"Symbol\"] = \"\"\n",
    "    \n",
    "    news[\"Positive\"] = int(re.search('Positive</div><div class=\"value\">([0-9]+)', html).group(1))\n",
    "    news[\"Negative\"] = int(re.search('Negative</div><div class=\"value\">([0-9]+)', html).group(1))\n",
    "    news[\"Polarity\"] = (news[\"Positive\"] - news[\"Negative\"]) / (news[\"Positive\"] + news[\"Negative\"]) if (news[\"Positive\"] + news[\"Negative\"]) > 0 else 0\n",
    "    \n",
    "    news[\"News_Id\"] = news_id\n",
    "    \n",
    "    return news"
   ]
  },
  {
   "cell_type": "markdown",
   "metadata": {},
   "source": [
    "## Dig out some articles to scrape\n",
    "Only articles published in the past 14 days can be downloaded"
   ]
  },
  {
   "cell_type": "code",
   "execution_count": 101,
   "metadata": {},
   "outputs": [],
   "source": [
    "import json\n",
    "from datetime import datetime, timedelta\n",
    "\n",
    "def save_news(path: str, news: dict):\n",
    "    with open(os.path.join(path, f\"{news['News_Id']}.json\"), \"w\") as f:\n",
    "        json.dump(news, f)\n",
    "        \n",
    "dtd = None\n",
    "    \n",
    "def search_news(timestamp: str, from_date: datetime):\n",
    "    global dtd\n",
    "    news_items = requests.get(f\"http://www.aastocks.com/en/resources/datafeed/getmorenews.ashx?cat=latest-news&newstime={timestamp}&newsid=NOW.1050948&period=0&key=\").json() # Latest News\n",
    "\n",
    "    for x in news_items:\n",
    "        date_published = datetime.strptime(x[\"dt\"], \"%Y/%m/%d %H:%M\")\n",
    "        if date_published < from_date:\n",
    "            return\n",
    "        save_news(DATA_PATH, download_news(x[\"id\"]))\n",
    "        dtd = x[\"dtd\"]\n",
    "        \n",
    "        \n",
    "    search_news(dtd, from_date)"
   ]
  },
  {
   "cell_type": "code",
   "execution_count": 102,
   "metadata": {},
   "outputs": [],
   "source": [
    "import time\n",
    "search_news(time.time(), (datetime.now() - timedelta(days=30)).replace(hour=0, minute=0, second=0, microsecond=0))"
   ]
  },
  {
   "cell_type": "markdown",
   "metadata": {},
   "source": [
    "## Postprocessing\n",
    "\n",
    "1. Remove all articles with title \"Disclaimer by AAStocks Financial News\"\n",
    "2. Remove all articles with title \"《HIBOR》Latest HIBOR\""
   ]
  },
  {
   "cell_type": "code",
   "execution_count": 89,
   "metadata": {},
   "outputs": [],
   "source": [
    "import os\n",
    "titles = {}\n",
    "for file in os.listdir(DATA_PATH):\n",
    "    with open(os.path.join(DATA_PATH, file), \"r\") as f:\n",
    "        d = json.load(f)\n",
    "        t = \"\".join([c for c in d[\"Title\"] if c.isalpha()]).upper()\n",
    "        titles[t] = titles.get(t, [])\n",
    "        titles[t].append(d[\"News_Id\"])"
   ]
  },
  {
   "cell_type": "code",
   "execution_count": 90,
   "metadata": {},
   "outputs": [
    {
     "name": "stdout",
     "output_type": "stream",
     "text": [
      "HKADDSCONFIRMEDCOVIDCASESTODAYHAVEUNKNOWNORIGIN \n",
      " ['NOW.1047443', 'NOW.1049072', 'NOW.1049057'] \n",
      "\n",
      "\n",
      "SHORTSELLINGTURNOVERBOROFELIGIBLESECURITIESTURNOVERATCLOSE \n",
      " ['NOW.1048324', 'NOW.1048783', 'NOW.1047037', 'NOW.1050662', 'NOW.1050053', 'NOW.1047453', 'NOW.1047260', 'NOW.1049756', 'NOW.1050350', 'NOW.1047686', 'NOW.1047984', 'NOW.1049415', 'NOW.1050976', 'NOW.1049070'] \n",
      "\n",
      "\n",
      "HKMAINJECTSHKBINTOMKT \n",
      " ['NOW.1049770', 'NOW.1050992', 'NOW.1050066', 'NOW.1048824', 'NOW.1050675', 'NOW.1047703', 'NOW.1049437', 'NOW.1049086', 'NOW.1050365'] \n",
      "\n",
      "\n",
      "HKADRPROJECTSHSITOOPENDOWNPTSTO \n",
      " ['NOW.1047490', 'NOW.1049818', 'NOW.1048835', 'NOW.1050409', 'NOW.1047302'] \n",
      "\n",
      "\n",
      "HKADRPROJECTSHSITOOPENUPPTSTONEXTMON \n",
      " ['NOW.1049458', 'NOW.1046694', 'NOW.1048013'] \n",
      "\n",
      "\n",
      "HKADRPROJECTSHSITOOPENUPPTSTO \n",
      " ['NOW.1050743', 'NOW.1047085', 'NOW.1049152', 'NOW.1047755', 'NOW.1050118', 'NOW.1048534'] \n",
      "\n",
      "\n",
      "HKMAINJECTSHKBINTOMKTONHKDSTRENGTH \n",
      " ['NOW.1048489', 'NOW.1047266', 'NOW.1051019', 'NOW.1050713', 'NOW.1050399', 'NOW.1047457', 'NOW.1048378', 'NOW.1047467', 'NOW.1048510', 'NOW.1047283', 'NOW.1048338', 'NOW.1047992'] \n",
      "\n",
      "\n",
      "CSUISSELIFTSYONGDAAUTOHKTPTORATEDOUTPERFORM \n",
      " ['NOW.1049939', 'NOW.1049894', 'NOW.1048466'] \n",
      "\n",
      "\n",
      "SHORTSELLINGTURNOVERBOROFELIGIBLESECURITIESTURNOVERATMIDDAY \n",
      " ['NOW.1050897', 'NOW.1047213', 'NOW.1047909', 'NOW.1049984', 'NOW.1050274', 'NOW.1047408', 'NOW.1049339', 'NOW.1047618', 'NOW.1048256', 'NOW.1048998', 'NOW.1050593', 'NOW.1049697', 'NOW.1046980'] \n",
      "\n",
      "\n",
      "CRBINDEXDOWN \n",
      " ['NOW.1048388', 'NOW.1049462', 'NOW.1051024', 'NOW.1046698'] \n",
      "\n",
      "\n",
      "UBSADDSJSGLOBALLIFEHKTPTORATEDBUY \n",
      " ['NOW.1050809', 'NOW.1050841', 'NOW.1049270'] \n",
      "\n",
      "\n",
      "HKADDSABOUTCOVIDCASESTODAYSOURCES \n",
      " ['NOW.1049289', 'NOW.1050219', 'NOW.1049952'] \n",
      "\n",
      "\n",
      "HKADDSCONFIRMEDCOVIDCASESRUMOR \n",
      " ['NOW.1048939', 'NOW.1046904', 'NOW.1049478', 'NOW.1048192', 'NOW.1047570'] \n",
      "\n",
      "\n",
      "VIXINDEXUP \n",
      " ['NOW.1046697', 'NOW.1048387', 'NOW.1049461'] \n",
      "\n",
      "\n"
     ]
    }
   ],
   "source": [
    "for t in titles:\n",
    "    if len(titles[t]) > 1:\n",
    "        print(t, \"\\n\", titles[t], \"\\n\\n\")"
   ]
  },
  {
   "cell_type": "code",
   "execution_count": 91,
   "metadata": {},
   "outputs": [],
   "source": [
    "# for file in titles[\"DISCLAIMERBYAASTOCKSFINANCIALNEWS\"]:\n",
    "#     os.remove(os.path.join(DATA_PATH, f\"{file}.json\"))\n",
    "\n",
    "# for file in titles[\"HIBORLATESTHIBOR\"]:\n",
    "#     os.remove(os.path.join(DATA_PATH, f\"{file}.json\"))"
   ]
  },
  {
   "cell_type": "code",
   "execution_count": null,
   "metadata": {},
   "outputs": [],
   "source": []
  }
 ],
 "metadata": {
  "kernelspec": {
   "display_name": "Python 3",
   "language": "python",
   "name": "python3"
  },
  "language_info": {
   "codemirror_mode": {
    "name": "ipython",
    "version": 3
   },
   "file_extension": ".py",
   "mimetype": "text/x-python",
   "name": "python",
   "nbconvert_exporter": "python",
   "pygments_lexer": "ipython3",
   "version": "3.8.3"
  }
 },
 "nbformat": 4,
 "nbformat_minor": 4
}
